{
 "cells": [
  {
   "cell_type": "markdown",
   "metadata": {},
   "source": [
    "## Import Modules"
   ]
  },
  {
   "cell_type": "code",
   "execution_count": 1,
   "metadata": {
    "execution": {
     "iopub.execute_input": "2024-03-24T13:11:44.274638Z",
     "iopub.status.busy": "2024-03-24T13:11:44.273698Z",
     "iopub.status.idle": "2024-03-24T13:11:57.668168Z",
     "shell.execute_reply": "2024-03-24T13:11:57.667271Z",
     "shell.execute_reply.started": "2024-03-24T13:11:44.274601Z"
    },
    "scrolled": true
   },
   "outputs": [
    {
     "name": "stderr",
     "output_type": "stream",
     "text": [
      "/opt/conda/lib/python3.10/site-packages/scipy/__init__.py:146: UserWarning: A NumPy version >=1.16.5 and <1.23.0 is required for this version of SciPy (detected version 1.24.3\n",
      "  warnings.warn(f\"A NumPy version >={np_minversion} and <{np_maxversion}\"\n"
     ]
    }
   ],
   "source": [
    "import os\n",
    "import pickle\n",
    "from tqdm.notebook import tqdm\n",
    "\n",
    "from tensorflow.keras.applications.vgg16 import VGG16, preprocess_input\n",
    "from keras.preprocessing.image import load_img, img_to_array\n",
    "from keras.preprocessing.text import Tokenizer\n",
    "from tensorflow.keras.preprocessing.sequence import pad_sequences\n",
    "from tensorflow.keras.models import Model\n",
    "from tensorflow.keras.utils import to_categorical, plot_model\n",
    "from tensorflow.keras.layers import Input, Dense, LSTM, Embedding, Dropout, add"
   ]
  },
  {
   "cell_type": "code",
   "execution_count": 2,
   "metadata": {
    "execution": {
     "iopub.execute_input": "2024-03-24T13:11:57.671194Z",
     "iopub.status.busy": "2024-03-24T13:11:57.670047Z",
     "iopub.status.idle": "2024-03-24T13:11:57.675600Z",
     "shell.execute_reply": "2024-03-24T13:11:57.674567Z",
     "shell.execute_reply.started": "2024-03-24T13:11:57.671154Z"
    }
   },
   "outputs": [],
   "source": [
    "import numpy as np"
   ]
  },
  {
   "cell_type": "code",
   "execution_count": 3,
   "metadata": {
    "execution": {
     "iopub.execute_input": "2024-03-24T13:11:57.677636Z",
     "iopub.status.busy": "2024-03-24T13:11:57.677226Z",
     "iopub.status.idle": "2024-03-24T13:11:57.708859Z",
     "shell.execute_reply": "2024-03-24T13:11:57.707993Z",
     "shell.execute_reply.started": "2024-03-24T13:11:57.677600Z"
    }
   },
   "outputs": [],
   "source": [
    "BASE_DIR = '/kaggle/input/flickr30k'\n",
    "WORKING_DIR = '/kaggle/working'"
   ]
  },
  {
   "cell_type": "markdown",
   "metadata": {},
   "source": [
    "##  Extract image features"
   ]
  },
  {
   "cell_type": "code",
   "execution_count": 4,
   "metadata": {
    "execution": {
     "iopub.execute_input": "2024-03-24T13:11:57.712210Z",
     "iopub.status.busy": "2024-03-24T13:11:57.711407Z",
     "iopub.status.idle": "2024-03-24T13:12:02.475109Z",
     "shell.execute_reply": "2024-03-24T13:12:02.473870Z",
     "shell.execute_reply.started": "2024-03-24T13:11:57.712178Z"
    }
   },
   "outputs": [
    {
     "name": "stdout",
     "output_type": "stream",
     "text": [
      "Downloading data from https://storage.googleapis.com/tensorflow/keras-applications/xception/xception_weights_tf_dim_ordering_tf_kernels.h5\n",
      "91884032/91884032 [==============================] - 1s 0us/step\n",
      "Model: \"model\"\n",
      "__________________________________________________________________________________________________\n",
      " Layer (type)                Output Shape                 Param #   Connected to                  \n",
      "==================================================================================================\n",
      " input_1 (InputLayer)        [(None, 299, 299, 3)]        0         []                            \n",
      "                                                                                                  \n",
      " block1_conv1 (Conv2D)       (None, 149, 149, 32)         864       ['input_1[0][0]']             \n",
      "                                                                                                  \n",
      " block1_conv1_bn (BatchNorm  (None, 149, 149, 32)         128       ['block1_conv1[0][0]']        \n",
      " alization)                                                                                       \n",
      "                                                                                                  \n",
      " block1_conv1_act (Activati  (None, 149, 149, 32)         0         ['block1_conv1_bn[0][0]']     \n",
      " on)                                                                                              \n",
      "                                                                                                  \n",
      " block1_conv2 (Conv2D)       (None, 147, 147, 64)         18432     ['block1_conv1_act[0][0]']    \n",
      "                                                                                                  \n",
      " block1_conv2_bn (BatchNorm  (None, 147, 147, 64)         256       ['block1_conv2[0][0]']        \n",
      " alization)                                                                                       \n",
      "                                                                                                  \n",
      " block1_conv2_act (Activati  (None, 147, 147, 64)         0         ['block1_conv2_bn[0][0]']     \n",
      " on)                                                                                              \n",
      "                                                                                                  \n",
      " block2_sepconv1 (Separable  (None, 147, 147, 128)        8768      ['block1_conv2_act[0][0]']    \n",
      " Conv2D)                                                                                          \n",
      "                                                                                                  \n",
      " block2_sepconv1_bn (BatchN  (None, 147, 147, 128)        512       ['block2_sepconv1[0][0]']     \n",
      " ormalization)                                                                                    \n",
      "                                                                                                  \n",
      " block2_sepconv2_act (Activ  (None, 147, 147, 128)        0         ['block2_sepconv1_bn[0][0]']  \n",
      " ation)                                                                                           \n",
      "                                                                                                  \n",
      " block2_sepconv2 (Separable  (None, 147, 147, 128)        17536     ['block2_sepconv2_act[0][0]'] \n",
      " Conv2D)                                                                                          \n",
      "                                                                                                  \n",
      " block2_sepconv2_bn (BatchN  (None, 147, 147, 128)        512       ['block2_sepconv2[0][0]']     \n",
      " ormalization)                                                                                    \n",
      "                                                                                                  \n",
      " conv2d (Conv2D)             (None, 74, 74, 128)          8192      ['block1_conv2_act[0][0]']    \n",
      "                                                                                                  \n",
      " block2_pool (MaxPooling2D)  (None, 74, 74, 128)          0         ['block2_sepconv2_bn[0][0]']  \n",
      "                                                                                                  \n",
      " batch_normalization (Batch  (None, 74, 74, 128)          512       ['conv2d[0][0]']              \n",
      " Normalization)                                                                                   \n",
      "                                                                                                  \n",
      " add (Add)                   (None, 74, 74, 128)          0         ['block2_pool[0][0]',         \n",
      "                                                                     'batch_normalization[0][0]'] \n",
      "                                                                                                  \n",
      " block3_sepconv1_act (Activ  (None, 74, 74, 128)          0         ['add[0][0]']                 \n",
      " ation)                                                                                           \n",
      "                                                                                                  \n",
      " block3_sepconv1 (Separable  (None, 74, 74, 256)          33920     ['block3_sepconv1_act[0][0]'] \n",
      " Conv2D)                                                                                          \n",
      "                                                                                                  \n",
      " block3_sepconv1_bn (BatchN  (None, 74, 74, 256)          1024      ['block3_sepconv1[0][0]']     \n",
      " ormalization)                                                                                    \n",
      "                                                                                                  \n",
      " block3_sepconv2_act (Activ  (None, 74, 74, 256)          0         ['block3_sepconv1_bn[0][0]']  \n",
      " ation)                                                                                           \n",
      "                                                                                                  \n",
      " block3_sepconv2 (Separable  (None, 74, 74, 256)          67840     ['block3_sepconv2_act[0][0]'] \n",
      " Conv2D)                                                                                          \n",
      "                                                                                                  \n",
      " block3_sepconv2_bn (BatchN  (None, 74, 74, 256)          1024      ['block3_sepconv2[0][0]']     \n",
      " ormalization)                                                                                    \n",
      "                                                                                                  \n",
      " conv2d_1 (Conv2D)           (None, 37, 37, 256)          32768     ['add[0][0]']                 \n",
      "                                                                                                  \n",
      " block3_pool (MaxPooling2D)  (None, 37, 37, 256)          0         ['block3_sepconv2_bn[0][0]']  \n",
      "                                                                                                  \n",
      " batch_normalization_1 (Bat  (None, 37, 37, 256)          1024      ['conv2d_1[0][0]']            \n",
      " chNormalization)                                                                                 \n",
      "                                                                                                  \n",
      " add_1 (Add)                 (None, 37, 37, 256)          0         ['block3_pool[0][0]',         \n",
      "                                                                     'batch_normalization_1[0][0]'\n",
      "                                                                    ]                             \n",
      "                                                                                                  \n",
      " block4_sepconv1_act (Activ  (None, 37, 37, 256)          0         ['add_1[0][0]']               \n",
      " ation)                                                                                           \n",
      "                                                                                                  \n",
      " block4_sepconv1 (Separable  (None, 37, 37, 728)          188672    ['block4_sepconv1_act[0][0]'] \n",
      " Conv2D)                                                                                          \n",
      "                                                                                                  \n",
      " block4_sepconv1_bn (BatchN  (None, 37, 37, 728)          2912      ['block4_sepconv1[0][0]']     \n",
      " ormalization)                                                                                    \n",
      "                                                                                                  \n",
      " block4_sepconv2_act (Activ  (None, 37, 37, 728)          0         ['block4_sepconv1_bn[0][0]']  \n",
      " ation)                                                                                           \n",
      "                                                                                                  \n",
      " block4_sepconv2 (Separable  (None, 37, 37, 728)          536536    ['block4_sepconv2_act[0][0]'] \n",
      " Conv2D)                                                                                          \n",
      "                                                                                                  \n",
      " block4_sepconv2_bn (BatchN  (None, 37, 37, 728)          2912      ['block4_sepconv2[0][0]']     \n",
      " ormalization)                                                                                    \n",
      "                                                                                                  \n",
      " conv2d_2 (Conv2D)           (None, 19, 19, 728)          186368    ['add_1[0][0]']               \n",
      "                                                                                                  \n",
      " block4_pool (MaxPooling2D)  (None, 19, 19, 728)          0         ['block4_sepconv2_bn[0][0]']  \n",
      "                                                                                                  \n",
      " batch_normalization_2 (Bat  (None, 19, 19, 728)          2912      ['conv2d_2[0][0]']            \n",
      " chNormalization)                                                                                 \n",
      "                                                                                                  \n",
      " add_2 (Add)                 (None, 19, 19, 728)          0         ['block4_pool[0][0]',         \n",
      "                                                                     'batch_normalization_2[0][0]'\n",
      "                                                                    ]                             \n",
      "                                                                                                  \n",
      " block5_sepconv1_act (Activ  (None, 19, 19, 728)          0         ['add_2[0][0]']               \n",
      " ation)                                                                                           \n",
      "                                                                                                  \n",
      " block5_sepconv1 (Separable  (None, 19, 19, 728)          536536    ['block5_sepconv1_act[0][0]'] \n",
      " Conv2D)                                                                                          \n",
      "                                                                                                  \n",
      " block5_sepconv1_bn (BatchN  (None, 19, 19, 728)          2912      ['block5_sepconv1[0][0]']     \n",
      " ormalization)                                                                                    \n",
      "                                                                                                  \n",
      " block5_sepconv2_act (Activ  (None, 19, 19, 728)          0         ['block5_sepconv1_bn[0][0]']  \n",
      " ation)                                                                                           \n",
      "                                                                                                  \n",
      " block5_sepconv2 (Separable  (None, 19, 19, 728)          536536    ['block5_sepconv2_act[0][0]'] \n",
      " Conv2D)                                                                                          \n",
      "                                                                                                  \n",
      " block5_sepconv2_bn (BatchN  (None, 19, 19, 728)          2912      ['block5_sepconv2[0][0]']     \n",
      " ormalization)                                                                                    \n",
      "                                                                                                  \n",
      " block5_sepconv3_act (Activ  (None, 19, 19, 728)          0         ['block5_sepconv2_bn[0][0]']  \n",
      " ation)                                                                                           \n",
      "                                                                                                  \n",
      " block5_sepconv3 (Separable  (None, 19, 19, 728)          536536    ['block5_sepconv3_act[0][0]'] \n",
      " Conv2D)                                                                                          \n",
      "                                                                                                  \n",
      " block5_sepconv3_bn (BatchN  (None, 19, 19, 728)          2912      ['block5_sepconv3[0][0]']     \n",
      " ormalization)                                                                                    \n",
      "                                                                                                  \n",
      " add_3 (Add)                 (None, 19, 19, 728)          0         ['block5_sepconv3_bn[0][0]',  \n",
      "                                                                     'add_2[0][0]']               \n",
      "                                                                                                  \n",
      " block6_sepconv1_act (Activ  (None, 19, 19, 728)          0         ['add_3[0][0]']               \n",
      " ation)                                                                                           \n",
      "                                                                                                  \n",
      " block6_sepconv1 (Separable  (None, 19, 19, 728)          536536    ['block6_sepconv1_act[0][0]'] \n",
      " Conv2D)                                                                                          \n",
      "                                                                                                  \n",
      " block6_sepconv1_bn (BatchN  (None, 19, 19, 728)          2912      ['block6_sepconv1[0][0]']     \n",
      " ormalization)                                                                                    \n",
      "                                                                                                  \n",
      " block6_sepconv2_act (Activ  (None, 19, 19, 728)          0         ['block6_sepconv1_bn[0][0]']  \n",
      " ation)                                                                                           \n",
      "                                                                                                  \n",
      " block6_sepconv2 (Separable  (None, 19, 19, 728)          536536    ['block6_sepconv2_act[0][0]'] \n",
      " Conv2D)                                                                                          \n",
      "                                                                                                  \n",
      " block6_sepconv2_bn (BatchN  (None, 19, 19, 728)          2912      ['block6_sepconv2[0][0]']     \n",
      " ormalization)                                                                                    \n",
      "                                                                                                  \n",
      " block6_sepconv3_act (Activ  (None, 19, 19, 728)          0         ['block6_sepconv2_bn[0][0]']  \n",
      " ation)                                                                                           \n",
      "                                                                                                  \n",
      " block6_sepconv3 (Separable  (None, 19, 19, 728)          536536    ['block6_sepconv3_act[0][0]'] \n",
      " Conv2D)                                                                                          \n",
      "                                                                                                  \n",
      " block6_sepconv3_bn (BatchN  (None, 19, 19, 728)          2912      ['block6_sepconv3[0][0]']     \n",
      " ormalization)                                                                                    \n",
      "                                                                                                  \n",
      " add_4 (Add)                 (None, 19, 19, 728)          0         ['block6_sepconv3_bn[0][0]',  \n",
      "                                                                     'add_3[0][0]']               \n",
      "                                                                                                  \n",
      " block7_sepconv1_act (Activ  (None, 19, 19, 728)          0         ['add_4[0][0]']               \n",
      " ation)                                                                                           \n",
      "                                                                                                  \n",
      " block7_sepconv1 (Separable  (None, 19, 19, 728)          536536    ['block7_sepconv1_act[0][0]'] \n",
      " Conv2D)                                                                                          \n",
      "                                                                                                  \n",
      " block7_sepconv1_bn (BatchN  (None, 19, 19, 728)          2912      ['block7_sepconv1[0][0]']     \n",
      " ormalization)                                                                                    \n",
      "                                                                                                  \n",
      " block7_sepconv2_act (Activ  (None, 19, 19, 728)          0         ['block7_sepconv1_bn[0][0]']  \n",
      " ation)                                                                                           \n",
      "                                                                                                  \n",
      " block7_sepconv2 (Separable  (None, 19, 19, 728)          536536    ['block7_sepconv2_act[0][0]'] \n",
      " Conv2D)                                                                                          \n",
      "                                                                                                  \n",
      " block7_sepconv2_bn (BatchN  (None, 19, 19, 728)          2912      ['block7_sepconv2[0][0]']     \n",
      " ormalization)                                                                                    \n",
      "                                                                                                  \n",
      " block7_sepconv3_act (Activ  (None, 19, 19, 728)          0         ['block7_sepconv2_bn[0][0]']  \n",
      " ation)                                                                                           \n",
      "                                                                                                  \n",
      " block7_sepconv3 (Separable  (None, 19, 19, 728)          536536    ['block7_sepconv3_act[0][0]'] \n",
      " Conv2D)                                                                                          \n",
      "                                                                                                  \n",
      " block7_sepconv3_bn (BatchN  (None, 19, 19, 728)          2912      ['block7_sepconv3[0][0]']     \n",
      " ormalization)                                                                                    \n",
      "                                                                                                  \n",
      " add_5 (Add)                 (None, 19, 19, 728)          0         ['block7_sepconv3_bn[0][0]',  \n",
      "                                                                     'add_4[0][0]']               \n",
      "                                                                                                  \n",
      " block8_sepconv1_act (Activ  (None, 19, 19, 728)          0         ['add_5[0][0]']               \n",
      " ation)                                                                                           \n",
      "                                                                                                  \n",
      " block8_sepconv1 (Separable  (None, 19, 19, 728)          536536    ['block8_sepconv1_act[0][0]'] \n",
      " Conv2D)                                                                                          \n",
      "                                                                                                  \n",
      " block8_sepconv1_bn (BatchN  (None, 19, 19, 728)          2912      ['block8_sepconv1[0][0]']     \n",
      " ormalization)                                                                                    \n",
      "                                                                                                  \n",
      " block8_sepconv2_act (Activ  (None, 19, 19, 728)          0         ['block8_sepconv1_bn[0][0]']  \n",
      " ation)                                                                                           \n",
      "                                                                                                  \n",
      " block8_sepconv2 (Separable  (None, 19, 19, 728)          536536    ['block8_sepconv2_act[0][0]'] \n",
      " Conv2D)                                                                                          \n",
      "                                                                                                  \n",
      " block8_sepconv2_bn (BatchN  (None, 19, 19, 728)          2912      ['block8_sepconv2[0][0]']     \n",
      " ormalization)                                                                                    \n",
      "                                                                                                  \n",
      " block8_sepconv3_act (Activ  (None, 19, 19, 728)          0         ['block8_sepconv2_bn[0][0]']  \n",
      " ation)                                                                                           \n",
      "                                                                                                  \n",
      " block8_sepconv3 (Separable  (None, 19, 19, 728)          536536    ['block8_sepconv3_act[0][0]'] \n",
      " Conv2D)                                                                                          \n",
      "                                                                                                  \n",
      " block8_sepconv3_bn (BatchN  (None, 19, 19, 728)          2912      ['block8_sepconv3[0][0]']     \n",
      " ormalization)                                                                                    \n",
      "                                                                                                  \n",
      " add_6 (Add)                 (None, 19, 19, 728)          0         ['block8_sepconv3_bn[0][0]',  \n",
      "                                                                     'add_5[0][0]']               \n",
      "                                                                                                  \n",
      " block9_sepconv1_act (Activ  (None, 19, 19, 728)          0         ['add_6[0][0]']               \n",
      " ation)                                                                                           \n",
      "                                                                                                  \n",
      " block9_sepconv1 (Separable  (None, 19, 19, 728)          536536    ['block9_sepconv1_act[0][0]'] \n",
      " Conv2D)                                                                                          \n",
      "                                                                                                  \n",
      " block9_sepconv1_bn (BatchN  (None, 19, 19, 728)          2912      ['block9_sepconv1[0][0]']     \n",
      " ormalization)                                                                                    \n",
      "                                                                                                  \n",
      " block9_sepconv2_act (Activ  (None, 19, 19, 728)          0         ['block9_sepconv1_bn[0][0]']  \n",
      " ation)                                                                                           \n",
      "                                                                                                  \n",
      " block9_sepconv2 (Separable  (None, 19, 19, 728)          536536    ['block9_sepconv2_act[0][0]'] \n",
      " Conv2D)                                                                                          \n",
      "                                                                                                  \n",
      " block9_sepconv2_bn (BatchN  (None, 19, 19, 728)          2912      ['block9_sepconv2[0][0]']     \n",
      " ormalization)                                                                                    \n",
      "                                                                                                  \n",
      " block9_sepconv3_act (Activ  (None, 19, 19, 728)          0         ['block9_sepconv2_bn[0][0]']  \n",
      " ation)                                                                                           \n",
      "                                                                                                  \n",
      " block9_sepconv3 (Separable  (None, 19, 19, 728)          536536    ['block9_sepconv3_act[0][0]'] \n",
      " Conv2D)                                                                                          \n",
      "                                                                                                  \n",
      " block9_sepconv3_bn (BatchN  (None, 19, 19, 728)          2912      ['block9_sepconv3[0][0]']     \n",
      " ormalization)                                                                                    \n",
      "                                                                                                  \n",
      " add_7 (Add)                 (None, 19, 19, 728)          0         ['block9_sepconv3_bn[0][0]',  \n",
      "                                                                     'add_6[0][0]']               \n",
      "                                                                                                  \n",
      " block10_sepconv1_act (Acti  (None, 19, 19, 728)          0         ['add_7[0][0]']               \n",
      " vation)                                                                                          \n",
      "                                                                                                  \n",
      " block10_sepconv1 (Separabl  (None, 19, 19, 728)          536536    ['block10_sepconv1_act[0][0]']\n",
      " eConv2D)                                                                                         \n",
      "                                                                                                  \n",
      " block10_sepconv1_bn (Batch  (None, 19, 19, 728)          2912      ['block10_sepconv1[0][0]']    \n",
      " Normalization)                                                                                   \n",
      "                                                                                                  \n",
      " block10_sepconv2_act (Acti  (None, 19, 19, 728)          0         ['block10_sepconv1_bn[0][0]'] \n",
      " vation)                                                                                          \n",
      "                                                                                                  \n",
      " block10_sepconv2 (Separabl  (None, 19, 19, 728)          536536    ['block10_sepconv2_act[0][0]']\n",
      " eConv2D)                                                                                         \n",
      "                                                                                                  \n",
      " block10_sepconv2_bn (Batch  (None, 19, 19, 728)          2912      ['block10_sepconv2[0][0]']    \n",
      " Normalization)                                                                                   \n",
      "                                                                                                  \n",
      " block10_sepconv3_act (Acti  (None, 19, 19, 728)          0         ['block10_sepconv2_bn[0][0]'] \n",
      " vation)                                                                                          \n",
      "                                                                                                  \n",
      " block10_sepconv3 (Separabl  (None, 19, 19, 728)          536536    ['block10_sepconv3_act[0][0]']\n",
      " eConv2D)                                                                                         \n",
      "                                                                                                  \n",
      " block10_sepconv3_bn (Batch  (None, 19, 19, 728)          2912      ['block10_sepconv3[0][0]']    \n",
      " Normalization)                                                                                   \n",
      "                                                                                                  \n",
      " add_8 (Add)                 (None, 19, 19, 728)          0         ['block10_sepconv3_bn[0][0]', \n",
      "                                                                     'add_7[0][0]']               \n",
      "                                                                                                  \n",
      " block11_sepconv1_act (Acti  (None, 19, 19, 728)          0         ['add_8[0][0]']               \n",
      " vation)                                                                                          \n",
      "                                                                                                  \n",
      " block11_sepconv1 (Separabl  (None, 19, 19, 728)          536536    ['block11_sepconv1_act[0][0]']\n",
      " eConv2D)                                                                                         \n",
      "                                                                                                  \n",
      " block11_sepconv1_bn (Batch  (None, 19, 19, 728)          2912      ['block11_sepconv1[0][0]']    \n",
      " Normalization)                                                                                   \n",
      "                                                                                                  \n",
      " block11_sepconv2_act (Acti  (None, 19, 19, 728)          0         ['block11_sepconv1_bn[0][0]'] \n",
      " vation)                                                                                          \n",
      "                                                                                                  \n",
      " block11_sepconv2 (Separabl  (None, 19, 19, 728)          536536    ['block11_sepconv2_act[0][0]']\n",
      " eConv2D)                                                                                         \n",
      "                                                                                                  \n",
      " block11_sepconv2_bn (Batch  (None, 19, 19, 728)          2912      ['block11_sepconv2[0][0]']    \n",
      " Normalization)                                                                                   \n",
      "                                                                                                  \n",
      " block11_sepconv3_act (Acti  (None, 19, 19, 728)          0         ['block11_sepconv2_bn[0][0]'] \n",
      " vation)                                                                                          \n",
      "                                                                                                  \n",
      " block11_sepconv3 (Separabl  (None, 19, 19, 728)          536536    ['block11_sepconv3_act[0][0]']\n",
      " eConv2D)                                                                                         \n",
      "                                                                                                  \n",
      " block11_sepconv3_bn (Batch  (None, 19, 19, 728)          2912      ['block11_sepconv3[0][0]']    \n",
      " Normalization)                                                                                   \n",
      "                                                                                                  \n",
      " add_9 (Add)                 (None, 19, 19, 728)          0         ['block11_sepconv3_bn[0][0]', \n",
      "                                                                     'add_8[0][0]']               \n",
      "                                                                                                  \n",
      " block12_sepconv1_act (Acti  (None, 19, 19, 728)          0         ['add_9[0][0]']               \n",
      " vation)                                                                                          \n",
      "                                                                                                  \n",
      " block12_sepconv1 (Separabl  (None, 19, 19, 728)          536536    ['block12_sepconv1_act[0][0]']\n",
      " eConv2D)                                                                                         \n",
      "                                                                                                  \n",
      " block12_sepconv1_bn (Batch  (None, 19, 19, 728)          2912      ['block12_sepconv1[0][0]']    \n",
      " Normalization)                                                                                   \n",
      "                                                                                                  \n",
      " block12_sepconv2_act (Acti  (None, 19, 19, 728)          0         ['block12_sepconv1_bn[0][0]'] \n",
      " vation)                                                                                          \n",
      "                                                                                                  \n",
      " block12_sepconv2 (Separabl  (None, 19, 19, 728)          536536    ['block12_sepconv2_act[0][0]']\n",
      " eConv2D)                                                                                         \n",
      "                                                                                                  \n",
      " block12_sepconv2_bn (Batch  (None, 19, 19, 728)          2912      ['block12_sepconv2[0][0]']    \n",
      " Normalization)                                                                                   \n",
      "                                                                                                  \n",
      " block12_sepconv3_act (Acti  (None, 19, 19, 728)          0         ['block12_sepconv2_bn[0][0]'] \n",
      " vation)                                                                                          \n",
      "                                                                                                  \n",
      " block12_sepconv3 (Separabl  (None, 19, 19, 728)          536536    ['block12_sepconv3_act[0][0]']\n",
      " eConv2D)                                                                                         \n",
      "                                                                                                  \n",
      " block12_sepconv3_bn (Batch  (None, 19, 19, 728)          2912      ['block12_sepconv3[0][0]']    \n",
      " Normalization)                                                                                   \n",
      "                                                                                                  \n",
      " add_10 (Add)                (None, 19, 19, 728)          0         ['block12_sepconv3_bn[0][0]', \n",
      "                                                                     'add_9[0][0]']               \n",
      "                                                                                                  \n",
      " block13_sepconv1_act (Acti  (None, 19, 19, 728)          0         ['add_10[0][0]']              \n",
      " vation)                                                                                          \n",
      "                                                                                                  \n",
      " block13_sepconv1 (Separabl  (None, 19, 19, 728)          536536    ['block13_sepconv1_act[0][0]']\n",
      " eConv2D)                                                                                         \n",
      "                                                                                                  \n",
      " block13_sepconv1_bn (Batch  (None, 19, 19, 728)          2912      ['block13_sepconv1[0][0]']    \n",
      " Normalization)                                                                                   \n",
      "                                                                                                  \n",
      " block13_sepconv2_act (Acti  (None, 19, 19, 728)          0         ['block13_sepconv1_bn[0][0]'] \n",
      " vation)                                                                                          \n",
      "                                                                                                  \n",
      " block13_sepconv2 (Separabl  (None, 19, 19, 1024)         752024    ['block13_sepconv2_act[0][0]']\n",
      " eConv2D)                                                                                         \n",
      "                                                                                                  \n",
      " block13_sepconv2_bn (Batch  (None, 19, 19, 1024)         4096      ['block13_sepconv2[0][0]']    \n",
      " Normalization)                                                                                   \n",
      "                                                                                                  \n",
      " conv2d_3 (Conv2D)           (None, 10, 10, 1024)         745472    ['add_10[0][0]']              \n",
      "                                                                                                  \n",
      " block13_pool (MaxPooling2D  (None, 10, 10, 1024)         0         ['block13_sepconv2_bn[0][0]'] \n",
      " )                                                                                                \n",
      "                                                                                                  \n",
      " batch_normalization_3 (Bat  (None, 10, 10, 1024)         4096      ['conv2d_3[0][0]']            \n",
      " chNormalization)                                                                                 \n",
      "                                                                                                  \n",
      " add_11 (Add)                (None, 10, 10, 1024)         0         ['block13_pool[0][0]',        \n",
      "                                                                     'batch_normalization_3[0][0]'\n",
      "                                                                    ]                             \n",
      "                                                                                                  \n",
      " block14_sepconv1 (Separabl  (None, 10, 10, 1536)         1582080   ['add_11[0][0]']              \n",
      " eConv2D)                                                                                         \n",
      "                                                                                                  \n",
      " block14_sepconv1_bn (Batch  (None, 10, 10, 1536)         6144      ['block14_sepconv1[0][0]']    \n",
      " Normalization)                                                                                   \n",
      "                                                                                                  \n",
      " block14_sepconv1_act (Acti  (None, 10, 10, 1536)         0         ['block14_sepconv1_bn[0][0]'] \n",
      " vation)                                                                                          \n",
      "                                                                                                  \n",
      " block14_sepconv2 (Separabl  (None, 10, 10, 2048)         3159552   ['block14_sepconv1_act[0][0]']\n",
      " eConv2D)                                                                                         \n",
      "                                                                                                  \n",
      " block14_sepconv2_bn (Batch  (None, 10, 10, 2048)         8192      ['block14_sepconv2[0][0]']    \n",
      " Normalization)                                                                                   \n",
      "                                                                                                  \n",
      " block14_sepconv2_act (Acti  (None, 10, 10, 2048)         0         ['block14_sepconv2_bn[0][0]'] \n",
      " vation)                                                                                          \n",
      "                                                                                                  \n",
      " avg_pool (GlobalAveragePoo  (None, 2048)                 0         ['block14_sepconv2_act[0][0]']\n",
      " ling2D)                                                                                          \n",
      "                                                                                                  \n",
      "==================================================================================================\n",
      "Total params: 20861480 (79.58 MB)\n",
      "Trainable params: 20806952 (79.37 MB)\n",
      "Non-trainable params: 54528 (213.00 KB)\n",
      "__________________________________________________________________________________________________\n",
      "None\n"
     ]
    }
   ],
   "source": [
    "# load vgg16 model\n",
    "model = VGG16()\n",
    "# restructure the model\n",
    "model = Model(inputs = model.inputs, outputs = model.layers[-2].output)\n",
    "# summarize\n",
    "print(model.summary())"
   ]
  },
  {
   "cell_type": "code",
   "execution_count": 5,
   "metadata": {
    "_kg_hide-output": true,
    "execution": {
     "iopub.execute_input": "2024-03-24T13:12:02.477142Z",
     "iopub.status.busy": "2024-03-24T13:12:02.476799Z",
     "iopub.status.idle": "2024-03-24T13:55:08.532052Z",
     "shell.execute_reply": "2024-03-24T13:55:08.530900Z",
     "shell.execute_reply.started": "2024-03-24T13:12:02.477114Z"
    }
   },
   "outputs": [
    {
     "data": {
      "application/vnd.jupyter.widget-view+json": {
       "model_id": "4409752b35fa4a2badabdbb50270f2c9",
       "version_major": 2,
       "version_minor": 0
      },
      "text/plain": [
       "  0%|          | 0/31783 [00:00<?, ?it/s]"
      ]
     },
     "metadata": {},
     "output_type": "display_data"
    }
   ],
   "source": [
    "# extract features from Image\n",
    "features = {}\n",
    "directory = os.path.join(BASE_DIR,'images')\n",
    "directory = os.path.join(directory,'flickr30k_images')\n",
    "\n",
    "for img_name in tqdm(os.listdir(directory)):\n",
    "    # load the image from the file\n",
    "    img_path = directory + '/' + img_name\n",
    "    image = load_img(img_path,target_size=(299,299))\n",
    "    # convert image pixels to numpy array\n",
    "    image = img_to_array(image)\n",
    "    # reshape data for model\n",
    "    image = image.reshape((1,image.shape[0],image.shape[1],image.shape[2]))\n",
    "    # preprocess image for vgg\n",
    "    image = preprocess_input(image)\n",
    "    #extract features\n",
    "    feature = model.predict(image, verbose=0)\n",
    "    # get imiage ID\n",
    "    image_id = img_name.split('.')[0]\n",
    "    # store feature\n",
    "    features[image_id] = feature"
   ]
  },
  {
   "cell_type": "code",
   "execution_count": 6,
   "metadata": {
    "execution": {
     "iopub.execute_input": "2024-03-24T13:55:08.533653Z",
     "iopub.status.busy": "2024-03-24T13:55:08.533348Z",
     "iopub.status.idle": "2024-03-24T13:55:09.183816Z",
     "shell.execute_reply": "2024-03-24T13:55:09.182967Z",
     "shell.execute_reply.started": "2024-03-24T13:55:08.533627Z"
    }
   },
   "outputs": [],
   "source": [
    "# store features in pickle\n",
    "pickle.dump(features, open(os.path.join(WORKING_DIR,'features.pkl'),'wb'))"
   ]
  },
  {
   "cell_type": "code",
   "execution_count": 7,
   "metadata": {
    "execution": {
     "iopub.execute_input": "2024-03-24T13:55:09.185354Z",
     "iopub.status.busy": "2024-03-24T13:55:09.185037Z",
     "iopub.status.idle": "2024-03-24T13:55:09.549343Z",
     "shell.execute_reply": "2024-03-24T13:55:09.548286Z",
     "shell.execute_reply.started": "2024-03-24T13:55:09.185330Z"
    }
   },
   "outputs": [],
   "source": [
    "# load features from pickle\n",
    "with open(os.path.join(WORKING_DIR,'features.pkl'),'rb') as f:\n",
    "    features = pickle.load(f)"
   ]
  },
  {
   "cell_type": "markdown",
   "metadata": {},
   "source": [
    "## Load the Captions Data"
   ]
  },
  {
   "cell_type": "code",
   "execution_count": 8,
   "metadata": {
    "execution": {
     "iopub.execute_input": "2024-03-24T13:55:09.562021Z",
     "iopub.status.busy": "2024-03-24T13:55:09.561703Z",
     "iopub.status.idle": "2024-03-24T13:55:09.703272Z",
     "shell.execute_reply": "2024-03-24T13:55:09.702431Z",
     "shell.execute_reply.started": "2024-03-24T13:55:09.561995Z"
    }
   },
   "outputs": [],
   "source": [
    "with open(os.path.join(BASE_DIR,'captions.txt'),'r') as f:\n",
    "    next(f)\n",
    "    captions_doc = f.read()"
   ]
  },
  {
   "cell_type": "code",
   "execution_count": 9,
   "metadata": {
    "execution": {
     "iopub.execute_input": "2024-03-24T13:55:09.704893Z",
     "iopub.status.busy": "2024-03-24T13:55:09.704542Z",
     "iopub.status.idle": "2024-03-24T13:55:10.208136Z",
     "shell.execute_reply": "2024-03-24T13:55:10.207032Z",
     "shell.execute_reply.started": "2024-03-24T13:55:09.704860Z"
    }
   },
   "outputs": [
    {
     "data": {
      "application/vnd.jupyter.widget-view+json": {
       "model_id": "f37309575b44478f82f5abf8bfa9f2a0",
       "version_major": 2,
       "version_minor": 0
      },
      "text/plain": [
       "  0%|          | 0/158916 [00:00<?, ?it/s]"
      ]
     },
     "metadata": {},
     "output_type": "display_data"
    }
   ],
   "source": [
    "# create mapping of image to captions\n",
    "mapping = {}\n",
    "# process lines\n",
    "for line in tqdm(captions_doc.split('\\n')):\n",
    "    #split the line by comma(,)\n",
    "    tokens = line.split('|')\n",
    "    if len(line) < 2:\n",
    "        continue\n",
    "    image_id, caption = tokens[0], tokens[2:]\n",
    "    # remove extension from image_id\n",
    "    image_id = image_id.split('.')[0]\n",
    "    # convert caption list to string\n",
    "    caption = \" \".join(caption)\n",
    "    # create list if needed\n",
    "    if image_id not in mapping:\n",
    "        mapping[image_id] = []\n",
    "    # strore the caption\n",
    "    mapping[image_id].append(caption)"
   ]
  },
  {
   "cell_type": "code",
   "execution_count": 10,
   "metadata": {
    "execution": {
     "iopub.execute_input": "2024-03-24T13:55:10.212085Z",
     "iopub.status.busy": "2024-03-24T13:55:10.211751Z",
     "iopub.status.idle": "2024-03-24T13:55:10.218777Z",
     "shell.execute_reply": "2024-03-24T13:55:10.217826Z",
     "shell.execute_reply.started": "2024-03-24T13:55:10.212057Z"
    }
   },
   "outputs": [
    {
     "data": {
      "text/plain": [
       "31783"
      ]
     },
     "execution_count": 10,
     "metadata": {},
     "output_type": "execute_result"
    }
   ],
   "source": [
    "len(mapping)"
   ]
  },
  {
   "cell_type": "markdown",
   "metadata": {},
   "source": [
    "## Preprocess Text Data"
   ]
  },
  {
   "cell_type": "code",
   "execution_count": 11,
   "metadata": {
    "execution": {
     "iopub.execute_input": "2024-03-24T13:55:10.220355Z",
     "iopub.status.busy": "2024-03-24T13:55:10.220006Z",
     "iopub.status.idle": "2024-03-24T13:55:10.228461Z",
     "shell.execute_reply": "2024-03-24T13:55:10.227537Z",
     "shell.execute_reply.started": "2024-03-24T13:55:10.220324Z"
    }
   },
   "outputs": [],
   "source": [
    "def clean(mapping):\n",
    "    for key,captions in mapping.items():\n",
    "        for i in range(len(captions)):\n",
    "            # take one caption at a time\n",
    "            caption = captions[i]\n",
    "            # preprocessing steps\n",
    "            # convert to lowercase\n",
    "            caption = caption.lower()\n",
    "            # delete digits, special characters etc..\n",
    "            caption = caption.replace('[^A-Za-z]', '')\n",
    "            # delete additional spaces\n",
    "            caption = caption.replace('\\s+',' ')\n",
    "            # add start and end tags to the caption\n",
    "            caption = '<start> ' + \" \".join([word for word in caption.split() if len(word)>1]) + ' <end>'\n",
    "            captions[i] = caption"
   ]
  },
  {
   "cell_type": "code",
   "execution_count": 12,
   "metadata": {
    "execution": {
     "iopub.execute_input": "2024-03-24T13:55:10.229746Z",
     "iopub.status.busy": "2024-03-24T13:55:10.229461Z",
     "iopub.status.idle": "2024-03-24T13:55:10.238920Z",
     "shell.execute_reply": "2024-03-24T13:55:10.237969Z",
     "shell.execute_reply.started": "2024-03-24T13:55:10.229713Z"
    }
   },
   "outputs": [
    {
     "data": {
      "text/plain": [
       "['A child in a pink dress is climbing up a set of stairs in an entry way .',\n",
       " 'A little girl in a pink dress going into a wooden cabin .',\n",
       " 'A little girl climbing the stairs to her playhouse .',\n",
       " 'A little girl climbing into a wooden playhouse ',\n",
       " 'A girl going into a wooden building .']"
      ]
     },
     "execution_count": 12,
     "metadata": {},
     "output_type": "execute_result"
    }
   ],
   "source": [
    "mapping['1000268201']"
   ]
  },
  {
   "cell_type": "code",
   "execution_count": 13,
   "metadata": {
    "execution": {
     "iopub.execute_input": "2024-03-24T13:55:10.240452Z",
     "iopub.status.busy": "2024-03-24T13:55:10.240113Z",
     "iopub.status.idle": "2024-03-24T13:55:10.932307Z",
     "shell.execute_reply": "2024-03-24T13:55:10.930722Z",
     "shell.execute_reply.started": "2024-03-24T13:55:10.240420Z"
    }
   },
   "outputs": [],
   "source": [
    "# preprocess the text\n",
    "clean(mapping)"
   ]
  },
  {
   "cell_type": "code",
   "execution_count": 14,
   "metadata": {
    "execution": {
     "iopub.execute_input": "2024-03-24T13:55:10.934345Z",
     "iopub.status.busy": "2024-03-24T13:55:10.933676Z",
     "iopub.status.idle": "2024-03-24T13:55:10.940701Z",
     "shell.execute_reply": "2024-03-24T13:55:10.939760Z",
     "shell.execute_reply.started": "2024-03-24T13:55:10.934308Z"
    }
   },
   "outputs": [
    {
     "data": {
      "text/plain": [
       "['<start> child in pink dress is climbing up set of stairs in an entry way <end>',\n",
       " '<start> little girl in pink dress going into wooden cabin <end>',\n",
       " '<start> little girl climbing the stairs to her playhouse <end>',\n",
       " '<start> little girl climbing into wooden playhouse <end>',\n",
       " '<start> girl going into wooden building <end>']"
      ]
     },
     "execution_count": 14,
     "metadata": {},
     "output_type": "execute_result"
    }
   ],
   "source": [
    "mapping['1000268201']"
   ]
  },
  {
   "cell_type": "code",
   "execution_count": 15,
   "metadata": {
    "execution": {
     "iopub.execute_input": "2024-03-24T13:55:10.942407Z",
     "iopub.status.busy": "2024-03-24T13:55:10.942064Z",
     "iopub.status.idle": "2024-03-24T13:55:11.001372Z",
     "shell.execute_reply": "2024-03-24T13:55:11.000451Z",
     "shell.execute_reply.started": "2024-03-24T13:55:10.942379Z"
    }
   },
   "outputs": [],
   "source": [
    "all_captions = []\n",
    "for key in mapping:\n",
    "    for caption in mapping[key]:\n",
    "        all_captions.append(caption)"
   ]
  },
  {
   "cell_type": "code",
   "execution_count": 16,
   "metadata": {
    "execution": {
     "iopub.execute_input": "2024-03-24T13:55:11.002997Z",
     "iopub.status.busy": "2024-03-24T13:55:11.002659Z",
     "iopub.status.idle": "2024-03-24T13:55:11.009211Z",
     "shell.execute_reply": "2024-03-24T13:55:11.008292Z",
     "shell.execute_reply.started": "2024-03-24T13:55:11.002969Z"
    }
   },
   "outputs": [
    {
     "data": {
      "text/plain": [
       "158915"
      ]
     },
     "execution_count": 16,
     "metadata": {},
     "output_type": "execute_result"
    }
   ],
   "source": [
    "len(all_captions)"
   ]
  },
  {
   "cell_type": "code",
   "execution_count": 17,
   "metadata": {
    "execution": {
     "iopub.execute_input": "2024-03-24T13:55:11.011002Z",
     "iopub.status.busy": "2024-03-24T13:55:11.010612Z",
     "iopub.status.idle": "2024-03-24T13:55:11.019369Z",
     "shell.execute_reply": "2024-03-24T13:55:11.018289Z",
     "shell.execute_reply.started": "2024-03-24T13:55:11.010963Z"
    }
   },
   "outputs": [
    {
     "data": {
      "text/plain": [
       "['<start> two young guys with shaggy hair look at their hands while hanging out in the yard <end>',\n",
       " '<start> two young white males are outside near many bushes <end>',\n",
       " '<start> two men in green shirts are standing in yard <end>',\n",
       " '<start> man in blue shirt standing in garden <end>',\n",
       " '<start> two friends enjoy time spent together <end>',\n",
       " '<start> several men in hard hats are operating giant pulley system <end>',\n",
       " '<start> workers look down from up above on piece of equipment <end>',\n",
       " '<start> two men working on machine wearing hard hats <end>',\n",
       " '<start> four men on top of tall structure <end>',\n",
       " '<start> three men on large rig <end>']"
      ]
     },
     "execution_count": 17,
     "metadata": {},
     "output_type": "execute_result"
    }
   ],
   "source": [
    "all_captions[:10]"
   ]
  },
  {
   "cell_type": "code",
   "execution_count": 18,
   "metadata": {
    "execution": {
     "iopub.execute_input": "2024-03-24T13:55:11.021178Z",
     "iopub.status.busy": "2024-03-24T13:55:11.020817Z",
     "iopub.status.idle": "2024-03-24T13:55:14.517098Z",
     "shell.execute_reply": "2024-03-24T13:55:14.516275Z",
     "shell.execute_reply.started": "2024-03-24T13:55:11.021137Z"
    }
   },
   "outputs": [],
   "source": [
    "# tokenise the text \n",
    "tokenizer = Tokenizer()\n",
    "tokenizer.fit_on_texts(all_captions)\n",
    "vocab_size = len(tokenizer.word_index)+1"
   ]
  },
  {
   "cell_type": "code",
   "execution_count": 19,
   "metadata": {
    "execution": {
     "iopub.execute_input": "2024-03-24T13:55:14.518562Z",
     "iopub.status.busy": "2024-03-24T13:55:14.518262Z",
     "iopub.status.idle": "2024-03-24T13:55:14.524691Z",
     "shell.execute_reply": "2024-03-24T13:55:14.523643Z",
     "shell.execute_reply.started": "2024-03-24T13:55:14.518537Z"
    }
   },
   "outputs": [
    {
     "data": {
      "text/plain": [
       "18311"
      ]
     },
     "execution_count": 19,
     "metadata": {},
     "output_type": "execute_result"
    }
   ],
   "source": [
    "vocab_size"
   ]
  },
  {
   "cell_type": "code",
   "execution_count": 20,
   "metadata": {
    "execution": {
     "iopub.execute_input": "2024-03-24T13:55:14.526831Z",
     "iopub.status.busy": "2024-03-24T13:55:14.526433Z",
     "iopub.status.idle": "2024-03-24T13:55:14.670973Z",
     "shell.execute_reply": "2024-03-24T13:55:14.669973Z",
     "shell.execute_reply.started": "2024-03-24T13:55:14.526785Z"
    }
   },
   "outputs": [
    {
     "data": {
      "text/plain": [
       "74"
      ]
     },
     "execution_count": 20,
     "metadata": {},
     "output_type": "execute_result"
    }
   ],
   "source": [
    "# get Maximum length of the caption available\n",
    "max_length = max(len(caption.split())for caption in all_captions)\n",
    "max_length"
   ]
  },
  {
   "cell_type": "code",
   "execution_count": 21,
   "metadata": {
    "execution": {
     "iopub.execute_input": "2024-03-24T13:55:14.673172Z",
     "iopub.status.busy": "2024-03-24T13:55:14.672880Z",
     "iopub.status.idle": "2024-03-24T13:55:19.231833Z",
     "shell.execute_reply": "2024-03-24T13:55:19.230823Z",
     "shell.execute_reply.started": "2024-03-24T13:55:14.673147Z"
    }
   },
   "outputs": [],
   "source": [
    "import tensorflow as tf\n",
    "text_dataset = tf.data.Dataset.from_tensor_slices(all_captions)\n",
    "max_features = vocab_size  # Maximum vocab size.\n",
    "max_len = max_length  # Sequence length to pad the outputs to.\n",
    "\n",
    "vectorize_layer = tf.keras.layers.TextVectorization(\n",
    " max_tokens=max_features,\n",
    " output_mode='int',\n",
    " output_sequence_length=max_len)\n",
    "vectorize_layer.adapt(text_dataset.batch(64))\n",
    "# Create the model that uses the vectorize text layer\n",
    "model_vect = tf.keras.models.Sequential()\n",
    "\n",
    "# Start by creating an explicit input layer. It needs to have a shape of\n",
    "# (1,) (because we need to guarantee that there is exactly one string\n",
    "# input per batch), and the dtype needs to be 'string'.\n",
    "model_vect.add(tf.keras.Input(shape=(1,), dtype=tf.string))\n",
    "\n",
    "# The first layer in our model is the vectorization layer. After this\n",
    "# layer, we have a tensor of shape (batch_size, max_len) containing\n",
    "# vocab indices.\n",
    "model_vect.add(vectorize_layer)"
   ]
  },
  {
   "cell_type": "markdown",
   "metadata": {},
   "source": [
    "## Train Test Split"
   ]
  },
  {
   "cell_type": "code",
   "execution_count": 22,
   "metadata": {
    "execution": {
     "iopub.execute_input": "2024-03-24T13:55:19.233428Z",
     "iopub.status.busy": "2024-03-24T13:55:19.233087Z",
     "iopub.status.idle": "2024-03-24T13:55:19.239982Z",
     "shell.execute_reply": "2024-03-24T13:55:19.239050Z",
     "shell.execute_reply.started": "2024-03-24T13:55:19.233400Z"
    }
   },
   "outputs": [],
   "source": [
    "image_ids = list(mapping.keys())\n",
    "split = int(len(image_ids)*0.90)\n",
    "train = image_ids[:split]\n",
    "test = image_ids[split:]"
   ]
  },
  {
   "cell_type": "code",
   "execution_count": 23,
   "metadata": {
    "execution": {
     "iopub.execute_input": "2024-03-24T13:55:19.241585Z",
     "iopub.status.busy": "2024-03-24T13:55:19.241275Z",
     "iopub.status.idle": "2024-03-24T13:55:19.253142Z",
     "shell.execute_reply": "2024-03-24T13:55:19.252254Z",
     "shell.execute_reply.started": "2024-03-24T13:55:19.241559Z"
    }
   },
   "outputs": [],
   "source": [
    "# create data generator to get data in batch (avoids session crash)\n",
    "def data_generator(data_keys, mapping, features, tokenizer, max_length, vocab_size, batch_size):\n",
    "    # loop over images\n",
    "    n = 0\n",
    "    while 1:\n",
    "        for key in data_keys:\n",
    "            X1, X2, y = list(), list(), list()\n",
    "            n += 1\n",
    "            captions = mapping[key]\n",
    "            # process each caption\n",
    "            for caption in captions:\n",
    "                # encode the sequence\n",
    "                seq = tokenizer.texts_to_sequences([caption])[0]\n",
    "                # split the sequence into X, y pairs\n",
    "                for i in range(1, len(seq)):\n",
    "                    # split into input and output pairs\n",
    "                    in_seq, out_seq = seq[:i],seq[i]\n",
    "                    # pad input sequence\n",
    "                    in_seq = pad_sequences([in_seq],maxlen = max_length)[0]\n",
    "                    # encode the output aequence\n",
    "                    out_seq = to_categorical([out_seq],num_classes = vocab_size)[0]\n",
    "                    \n",
    "                    # store the sequences\n",
    "                    X1.append(features[key][0])\n",
    "                    X2.append(in_seq)\n",
    "                    y.append(out_seq)\n",
    "            if n == batch_size:\n",
    "                X1, X2, y = np.array(X1), np.array(X2), np.array(y)\n",
    "                yield [[X1, X2], y]\n",
    "                X1, X2, Y = list(), list(), list()\n",
    "                n = 0"
   ]
  },
  {
   "cell_type": "markdown",
   "metadata": {},
   "source": [
    "## Model Creation"
   ]
  },
  {
   "cell_type": "code",
   "execution_count": 24,
   "metadata": {
    "execution": {
     "iopub.execute_input": "2024-03-24T13:55:19.254673Z",
     "iopub.status.busy": "2024-03-24T13:55:19.254323Z",
     "iopub.status.idle": "2024-03-24T13:55:20.650659Z",
     "shell.execute_reply": "2024-03-24T13:55:20.649502Z",
     "shell.execute_reply.started": "2024-03-24T13:55:19.254640Z"
    }
   },
   "outputs": [
    {
     "data": {
      "image/png": "[encoded data removed]",
      "text/plain": [
       "<IPython.core.display.Image object>"
      ]
     },
     "execution_count": 24,
     "metadata": {},
     "output_type": "execute_result"
    }
   ],
   "source": [
    "# encoder model\n",
    "# image feature layers\n",
    "inputs1 = Input(shape=(4096,))\n",
    "fe1 = Dropout(0.4)(inputs1)\n",
    "fe2 = Dense(256,activation='relu')(fe1)\n",
    "\n",
    "# sequence feature layers\n",
    "inputs2 = Input(shape=(max_length,))\n",
    "se1 = Embedding(vocab_size, 256, mask_zero = True)(inputs2)\n",
    "se2 = Dropout(0.4)(se1)\n",
    "se3 = LSTM(256)(se2)\n",
    "\n",
    "\n",
    "# decoder model\n",
    "decoder1 = add([fe2, se3])\n",
    "decoder2 = Dense(256,activation='relu')(decoder1)\n",
    "outputs = Dense(vocab_size, activation='softmax')(decoder2)\n",
    "\n",
    "model = Model(inputs=[inputs1, inputs2], outputs = outputs)\n",
    "model.compile(loss='categorical_crossentropy',optimizer='adam')\n",
    "\n",
    "# plot the model\n",
    "plot_model(model, show_shapes = True)"
   ]
  },
  {
   "cell_type": "code",
   "execution_count": 25,
   "metadata": {
    "execution": {
     "iopub.execute_input": "2024-03-24T13:55:20.652131Z",
     "iopub.status.busy": "2024-03-24T13:55:20.651829Z",
     "iopub.status.idle": "2024-03-24T13:55:26.714005Z",
     "shell.execute_reply": "2024-03-24T13:55:26.711957Z",
     "shell.execute_reply.started": "2024-03-24T13:55:20.652104Z"
    }
   },
   "outputs": [
    {
     "name": "stderr",
     "output_type": "stream",
     "text": [
      "/tmp/ipykernel_42/3912240216.py:10: UserWarning: `Model.fit_generator` is deprecated and will be removed in a future version. Please use `Model.fit`, which supports generators.\n",
      "  model.fit_generator(generator, epochs = 1, steps_per_epoch = steps, verbose = 1)\n"
     ]
    },
    {
     "ename": "InvalidArgumentError",
     "evalue": "Graph execution error:\n\nDetected at node 'model_1/dense/MatMul' defined at (most recent call last):\n    File \"/opt/conda/lib/python3.10/runpy.py\", line 196, in _run_module_as_main\n      return _run_code(code, main_globals, None,\n    File \"/opt/conda/lib/python3.10/runpy.py\", line 86, in _run_code\n      exec(code, run_globals)\n    File \"/opt/conda/lib/python3.10/site-packages/ipykernel_launcher.py\", line 17, in <module>\n      app.launch_new_instance()\n    File \"/opt/conda/lib/python3.10/site-packages/traitlets/config/application.py\", line 1043, in launch_instance\n      app.start()\n    File \"/opt/conda/lib/python3.10/site-packages/ipykernel/kernelapp.py\", line 736, in start\n      self.io_loop.start()\n    File \"/opt/conda/lib/python3.10/site-packages/tornado/platform/asyncio.py\", line 195, in start\n      self.asyncio_loop.run_forever()\n    File \"/opt/conda/lib/python3.10/asyncio/base_events.py\", line 603, in run_forever\n      self._run_once()\n    File \"/opt/conda/lib/python3.10/asyncio/base_events.py\", line 1909, in _run_once\n      handle._run()\n    File \"/opt/conda/lib/python3.10/asyncio/events.py\", line 80, in _run\n      self._context.run(self._callback, *self._args)\n    File \"/opt/conda/lib/python3.10/site-packages/ipykernel/kernelbase.py\", line 516, in dispatch_queue\n      await self.process_one()\n    File \"/opt/conda/lib/python3.10/site-packages/ipykernel/kernelbase.py\", line 505, in process_one\n      await dispatch(*args)\n    File \"/opt/conda/lib/python3.10/site-packages/ipykernel/kernelbase.py\", line 412, in dispatch_shell\n      await result\n    File \"/opt/conda/lib/python3.10/site-packages/ipykernel/kernelbase.py\", line 740, in execute_request\n      reply_content = await reply_content\n    File \"/opt/conda/lib/python3.10/site-packages/ipykernel/ipkernel.py\", line 422, in do_execute\n      res = shell.run_cell(\n    File \"/opt/conda/lib/python3.10/site-packages/ipykernel/zmqshell.py\", line 546, in run_cell\n      return super().run_cell(*args, **kwargs)\n    File \"/opt/conda/lib/python3.10/site-packages/IPython/core/interactiveshell.py\", line 3009, in run_cell\n      result = self._run_cell(\n    File \"/opt/conda/lib/python3.10/site-packages/IPython/core/interactiveshell.py\", line 3064, in _run_cell\n      result = runner(coro)\n    File \"/opt/conda/lib/python3.10/site-packages/IPython/core/async_helpers.py\", line 129, in _pseudo_sync_runner\n      coro.send(None)\n    File \"/opt/conda/lib/python3.10/site-packages/IPython/core/interactiveshell.py\", line 3269, in run_cell_async\n      has_raised = await self.run_ast_nodes(code_ast.body, cell_name,\n    File \"/opt/conda/lib/python3.10/site-packages/IPython/core/interactiveshell.py\", line 3448, in run_ast_nodes\n      if await self.run_code(code, result, async_=asy):\n    File \"/opt/conda/lib/python3.10/site-packages/IPython/core/interactiveshell.py\", line 3508, in run_code\n      exec(code_obj, self.user_global_ns, self.user_ns)\n    File \"/tmp/ipykernel_42/3912240216.py\", line 10, in <module>\n      model.fit_generator(generator, epochs = 1, steps_per_epoch = steps, verbose = 1)\n    File \"/opt/conda/lib/python3.10/site-packages/keras/src/engine/training.py\", line 2810, in fit_generator\n      return self.fit(\n    File \"/opt/conda/lib/python3.10/site-packages/keras/src/utils/traceback_utils.py\", line 65, in error_handler\n      return fn(*args, **kwargs)\n    File \"/opt/conda/lib/python3.10/site-packages/keras/src/engine/training.py\", line 1742, in fit\n      tmp_logs = self.train_function(iterator)\n    File \"/opt/conda/lib/python3.10/site-packages/keras/src/engine/training.py\", line 1338, in train_function\n      return step_function(self, iterator)\n    File \"/opt/conda/lib/python3.10/site-packages/keras/src/engine/training.py\", line 1322, in step_function\n      outputs = model.distribute_strategy.run(run_step, args=(data,))\n    File \"/opt/conda/lib/python3.10/site-packages/keras/src/engine/training.py\", line 1303, in run_step\n      outputs = model.train_step(data)\n    File \"/opt/conda/lib/python3.10/site-packages/keras/src/engine/training.py\", line 1080, in train_step\n      y_pred = self(x, training=True)\n    File \"/opt/conda/lib/python3.10/site-packages/keras/src/utils/traceback_utils.py\", line 65, in error_handler\n      return fn(*args, **kwargs)\n    File \"/opt/conda/lib/python3.10/site-packages/keras/src/engine/training.py\", line 569, in __call__\n      return super().__call__(*args, **kwargs)\n    File \"/opt/conda/lib/python3.10/site-packages/keras/src/utils/traceback_utils.py\", line 65, in error_handler\n      return fn(*args, **kwargs)\n    File \"/opt/conda/lib/python3.10/site-packages/keras/src/engine/base_layer.py\", line 1150, in __call__\n      outputs = call_fn(inputs, *args, **kwargs)\n    File \"/opt/conda/lib/python3.10/site-packages/keras/src/utils/traceback_utils.py\", line 96, in error_handler\n      return fn(*args, **kwargs)\n    File \"/opt/conda/lib/python3.10/site-packages/keras/src/engine/functional.py\", line 512, in call\n      return self._run_internal_graph(inputs, training=training, mask=mask)\n    File \"/opt/conda/lib/python3.10/site-packages/keras/src/engine/functional.py\", line 669, in _run_internal_graph\n      outputs = node.layer(*args, **kwargs)\n    File \"/opt/conda/lib/python3.10/site-packages/keras/src/utils/traceback_utils.py\", line 65, in error_handler\n      return fn(*args, **kwargs)\n    File \"/opt/conda/lib/python3.10/site-packages/keras/src/engine/base_layer.py\", line 1150, in __call__\n      outputs = call_fn(inputs, *args, **kwargs)\n    File \"/opt/conda/lib/python3.10/site-packages/keras/src/utils/traceback_utils.py\", line 96, in error_handler\n      return fn(*args, **kwargs)\n    File \"/opt/conda/lib/python3.10/site-packages/keras/src/layers/core/dense.py\", line 241, in call\n      outputs = tf.matmul(a=inputs, b=self.kernel)\nNode: 'model_1/dense/MatMul'\nMatrix size-incompatible: In[0]: [61,2048], In[1]: [4096,256]\n\t [[{{node model_1/dense/MatMul}}]] [Op:__inference_train_function_2146558]",
     "output_type": "error",
     "traceback": [
      "\u001b[0;31m---------------------------------------------------------------------------\u001b[0m",
      "\u001b[0;31mInvalidArgumentError\u001b[0m                      Traceback (most recent call last)",
      "Cell \u001b[0;32mIn[25], line 10\u001b[0m\n\u001b[1;32m      8\u001b[0m generator \u001b[38;5;241m=\u001b[39m data_generator(train, mapping, features, tokenizer, max_length, vocab_size, batch_size)\n\u001b[1;32m      9\u001b[0m \u001b[38;5;66;03m# fit for one epoch\u001b[39;00m\n\u001b[0;32m---> 10\u001b[0m \u001b[43mmodel\u001b[49m\u001b[38;5;241;43m.\u001b[39;49m\u001b[43mfit_generator\u001b[49m\u001b[43m(\u001b[49m\u001b[43mgenerator\u001b[49m\u001b[43m,\u001b[49m\u001b[43m \u001b[49m\u001b[43mepochs\u001b[49m\u001b[43m \u001b[49m\u001b[38;5;241;43m=\u001b[39;49m\u001b[43m \u001b[49m\u001b[38;5;241;43m1\u001b[39;49m\u001b[43m,\u001b[49m\u001b[43m \u001b[49m\u001b[43msteps_per_epoch\u001b[49m\u001b[43m \u001b[49m\u001b[38;5;241;43m=\u001b[39;49m\u001b[43m \u001b[49m\u001b[43msteps\u001b[49m\u001b[43m,\u001b[49m\u001b[43m \u001b[49m\u001b[43mverbose\u001b[49m\u001b[43m \u001b[49m\u001b[38;5;241;43m=\u001b[39;49m\u001b[43m \u001b[49m\u001b[38;5;241;43m1\u001b[39;49m\u001b[43m)\u001b[49m\n\u001b[1;32m     11\u001b[0m \u001b[38;5;28mprint\u001b[39m(i)\n",
      "File \u001b[0;32m/opt/conda/lib/python3.10/site-packages/keras/src/engine/training.py:2810\u001b[0m, in \u001b[0;36mModel.fit_generator\u001b[0;34m(self, generator, steps_per_epoch, epochs, verbose, callbacks, validation_data, validation_steps, validation_freq, class_weight, max_queue_size, workers, use_multiprocessing, shuffle, initial_epoch)\u001b[0m\n\u001b[1;32m   2798\u001b[0m \u001b[38;5;250m\u001b[39m\u001b[38;5;124;03m\"\"\"Fits the model on data yielded batch-by-batch by a Python generator.\u001b[39;00m\n\u001b[1;32m   2799\u001b[0m \n\u001b[1;32m   2800\u001b[0m \u001b[38;5;124;03mDEPRECATED:\u001b[39;00m\n\u001b[1;32m   2801\u001b[0m \u001b[38;5;124;03m  `Model.fit` now supports generators, so there is no longer any need to\u001b[39;00m\n\u001b[1;32m   2802\u001b[0m \u001b[38;5;124;03m  use this endpoint.\u001b[39;00m\n\u001b[1;32m   2803\u001b[0m \u001b[38;5;124;03m\"\"\"\u001b[39;00m\n\u001b[1;32m   2804\u001b[0m warnings\u001b[38;5;241m.\u001b[39mwarn(\n\u001b[1;32m   2805\u001b[0m     \u001b[38;5;124m\"\u001b[39m\u001b[38;5;124m`Model.fit_generator` is deprecated and \u001b[39m\u001b[38;5;124m\"\u001b[39m\n\u001b[1;32m   2806\u001b[0m     \u001b[38;5;124m\"\u001b[39m\u001b[38;5;124mwill be removed in a future version. \u001b[39m\u001b[38;5;124m\"\u001b[39m\n\u001b[1;32m   2807\u001b[0m     \u001b[38;5;124m\"\u001b[39m\u001b[38;5;124mPlease use `Model.fit`, which supports generators.\u001b[39m\u001b[38;5;124m\"\u001b[39m,\n\u001b[1;32m   2808\u001b[0m     stacklevel\u001b[38;5;241m=\u001b[39m\u001b[38;5;241m2\u001b[39m,\n\u001b[1;32m   2809\u001b[0m )\n\u001b[0;32m-> 2810\u001b[0m \u001b[38;5;28;01mreturn\u001b[39;00m \u001b[38;5;28;43mself\u001b[39;49m\u001b[38;5;241;43m.\u001b[39;49m\u001b[43mfit\u001b[49m\u001b[43m(\u001b[49m\n\u001b[1;32m   2811\u001b[0m \u001b[43m    \u001b[49m\u001b[43mgenerator\u001b[49m\u001b[43m,\u001b[49m\n\u001b[1;32m   2812\u001b[0m \u001b[43m    \u001b[49m\u001b[43msteps_per_epoch\u001b[49m\u001b[38;5;241;43m=\u001b[39;49m\u001b[43msteps_per_epoch\u001b[49m\u001b[43m,\u001b[49m\n\u001b[1;32m   2813\u001b[0m \u001b[43m    \u001b[49m\u001b[43mepochs\u001b[49m\u001b[38;5;241;43m=\u001b[39;49m\u001b[43mepochs\u001b[49m\u001b[43m,\u001b[49m\n\u001b[1;32m   2814\u001b[0m \u001b[43m    \u001b[49m\u001b[43mverbose\u001b[49m\u001b[38;5;241;43m=\u001b[39;49m\u001b[43mverbose\u001b[49m\u001b[43m,\u001b[49m\n\u001b[1;32m   2815\u001b[0m \u001b[43m    \u001b[49m\u001b[43mcallbacks\u001b[49m\u001b[38;5;241;43m=\u001b[39;49m\u001b[43mcallbacks\u001b[49m\u001b[43m,\u001b[49m\n\u001b[1;32m   2816\u001b[0m \u001b[43m    \u001b[49m\u001b[43mvalidation_data\u001b[49m\u001b[38;5;241;43m=\u001b[39;49m\u001b[43mvalidation_data\u001b[49m\u001b[43m,\u001b[49m\n\u001b[1;32m   2817\u001b[0m \u001b[43m    \u001b[49m\u001b[43mvalidation_steps\u001b[49m\u001b[38;5;241;43m=\u001b[39;49m\u001b[43mvalidation_steps\u001b[49m\u001b[43m,\u001b[49m\n\u001b[1;32m   2818\u001b[0m \u001b[43m    \u001b[49m\u001b[43mvalidation_freq\u001b[49m\u001b[38;5;241;43m=\u001b[39;49m\u001b[43mvalidation_freq\u001b[49m\u001b[43m,\u001b[49m\n\u001b[1;32m   2819\u001b[0m \u001b[43m    \u001b[49m\u001b[43mclass_weight\u001b[49m\u001b[38;5;241;43m=\u001b[39;49m\u001b[43mclass_weight\u001b[49m\u001b[43m,\u001b[49m\n\u001b[1;32m   2820\u001b[0m \u001b[43m    \u001b[49m\u001b[43mmax_queue_size\u001b[49m\u001b[38;5;241;43m=\u001b[39;49m\u001b[43mmax_queue_size\u001b[49m\u001b[43m,\u001b[49m\n\u001b[1;32m   2821\u001b[0m \u001b[43m    \u001b[49m\u001b[43mworkers\u001b[49m\u001b[38;5;241;43m=\u001b[39;49m\u001b[43mworkers\u001b[49m\u001b[43m,\u001b[49m\n\u001b[1;32m   2822\u001b[0m \u001b[43m    \u001b[49m\u001b[43muse_multiprocessing\u001b[49m\u001b[38;5;241;43m=\u001b[39;49m\u001b[43muse_multiprocessing\u001b[49m\u001b[43m,\u001b[49m\n\u001b[1;32m   2823\u001b[0m \u001b[43m    \u001b[49m\u001b[43mshuffle\u001b[49m\u001b[38;5;241;43m=\u001b[39;49m\u001b[43mshuffle\u001b[49m\u001b[43m,\u001b[49m\n\u001b[1;32m   2824\u001b[0m \u001b[43m    \u001b[49m\u001b[43minitial_epoch\u001b[49m\u001b[38;5;241;43m=\u001b[39;49m\u001b[43minitial_epoch\u001b[49m\u001b[43m,\u001b[49m\n\u001b[1;32m   2825\u001b[0m \u001b[43m\u001b[49m\u001b[43m)\u001b[49m\n",
      "File \u001b[0;32m/opt/conda/lib/python3.10/site-packages/keras/src/utils/traceback_utils.py:70\u001b[0m, in \u001b[0;36mfilter_traceback.<locals>.error_handler\u001b[0;34m(*args, **kwargs)\u001b[0m\n\u001b[1;32m     67\u001b[0m     filtered_tb \u001b[38;5;241m=\u001b[39m _process_traceback_frames(e\u001b[38;5;241m.\u001b[39m__traceback__)\n\u001b[1;32m     68\u001b[0m     \u001b[38;5;66;03m# To get the full stack trace, call:\u001b[39;00m\n\u001b[1;32m     69\u001b[0m     \u001b[38;5;66;03m# `tf.debugging.disable_traceback_filtering()`\u001b[39;00m\n\u001b[0;32m---> 70\u001b[0m     \u001b[38;5;28;01mraise\u001b[39;00m e\u001b[38;5;241m.\u001b[39mwith_traceback(filtered_tb) \u001b[38;5;28;01mfrom\u001b[39;00m \u001b[38;5;28;01mNone\u001b[39;00m\n\u001b[1;32m     71\u001b[0m \u001b[38;5;28;01mfinally\u001b[39;00m:\n\u001b[1;32m     72\u001b[0m     \u001b[38;5;28;01mdel\u001b[39;00m filtered_tb\n",
      "File \u001b[0;32m/opt/conda/lib/python3.10/site-packages/tensorflow/python/eager/execute.py:53\u001b[0m, in \u001b[0;36mquick_execute\u001b[0;34m(op_name, num_outputs, inputs, attrs, ctx, name)\u001b[0m\n\u001b[1;32m     51\u001b[0m \u001b[38;5;28;01mtry\u001b[39;00m:\n\u001b[1;32m     52\u001b[0m   ctx\u001b[38;5;241m.\u001b[39mensure_initialized()\n\u001b[0;32m---> 53\u001b[0m   tensors \u001b[38;5;241m=\u001b[39m pywrap_tfe\u001b[38;5;241m.\u001b[39mTFE_Py_Execute(ctx\u001b[38;5;241m.\u001b[39m_handle, device_name, op_name,\n\u001b[1;32m     54\u001b[0m                                       inputs, attrs, num_outputs)\n\u001b[1;32m     55\u001b[0m \u001b[38;5;28;01mexcept\u001b[39;00m core\u001b[38;5;241m.\u001b[39m_NotOkStatusException \u001b[38;5;28;01mas\u001b[39;00m e:\n\u001b[1;32m     56\u001b[0m   \u001b[38;5;28;01mif\u001b[39;00m name \u001b[38;5;129;01mis\u001b[39;00m \u001b[38;5;129;01mnot\u001b[39;00m \u001b[38;5;28;01mNone\u001b[39;00m:\n",
      "\u001b[0;31mInvalidArgumentError\u001b[0m: Graph execution error:\n\nDetected at node 'model_1/dense/MatMul' defined at (most recent call last):\n    File \"/opt/conda/lib/python3.10/runpy.py\", line 196, in _run_module_as_main\n      return _run_code(code, main_globals, None,\n    File \"/opt/conda/lib/python3.10/runpy.py\", line 86, in _run_code\n      exec(code, run_globals)\n    File \"/opt/conda/lib/python3.10/site-packages/ipykernel_launcher.py\", line 17, in <module>\n      app.launch_new_instance()\n    File \"/opt/conda/lib/python3.10/site-packages/traitlets/config/application.py\", line 1043, in launch_instance\n      app.start()\n    File \"/opt/conda/lib/python3.10/site-packages/ipykernel/kernelapp.py\", line 736, in start\n      self.io_loop.start()\n    File \"/opt/conda/lib/python3.10/site-packages/tornado/platform/asyncio.py\", line 195, in start\n      self.asyncio_loop.run_forever()\n    File \"/opt/conda/lib/python3.10/asyncio/base_events.py\", line 603, in run_forever\n      self._run_once()\n    File \"/opt/conda/lib/python3.10/asyncio/base_events.py\", line 1909, in _run_once\n      handle._run()\n    File \"/opt/conda/lib/python3.10/asyncio/events.py\", line 80, in _run\n      self._context.run(self._callback, *self._args)\n    File \"/opt/conda/lib/python3.10/site-packages/ipykernel/kernelbase.py\", line 516, in dispatch_queue\n      await self.process_one()\n    File \"/opt/conda/lib/python3.10/site-packages/ipykernel/kernelbase.py\", line 505, in process_one\n      await dispatch(*args)\n    File \"/opt/conda/lib/python3.10/site-packages/ipykernel/kernelbase.py\", line 412, in dispatch_shell\n      await result\n    File \"/opt/conda/lib/python3.10/site-packages/ipykernel/kernelbase.py\", line 740, in execute_request\n      reply_content = await reply_content\n    File \"/opt/conda/lib/python3.10/site-packages/ipykernel/ipkernel.py\", line 422, in do_execute\n      res = shell.run_cell(\n    File \"/opt/conda/lib/python3.10/site-packages/ipykernel/zmqshell.py\", line 546, in run_cell\n      return super().run_cell(*args, **kwargs)\n    File \"/opt/conda/lib/python3.10/site-packages/IPython/core/interactiveshell.py\", line 3009, in run_cell\n      result = self._run_cell(\n    File \"/opt/conda/lib/python3.10/site-packages/IPython/core/interactiveshell.py\", line 3064, in _run_cell\n      result = runner(coro)\n    File \"/opt/conda/lib/python3.10/site-packages/IPython/core/async_helpers.py\", line 129, in _pseudo_sync_runner\n      coro.send(None)\n    File \"/opt/conda/lib/python3.10/site-packages/IPython/core/interactiveshell.py\", line 3269, in run_cell_async\n      has_raised = await self.run_ast_nodes(code_ast.body, cell_name,\n    File \"/opt/conda/lib/python3.10/site-packages/IPython/core/interactiveshell.py\", line 3448, in run_ast_nodes\n      if await self.run_code(code, result, async_=asy):\n    File \"/opt/conda/lib/python3.10/site-packages/IPython/core/interactiveshell.py\", line 3508, in run_code\n      exec(code_obj, self.user_global_ns, self.user_ns)\n    File \"/tmp/ipykernel_42/3912240216.py\", line 10, in <module>\n      model.fit_generator(generator, epochs = 1, steps_per_epoch = steps, verbose = 1)\n    File \"/opt/conda/lib/python3.10/site-packages/keras/src/engine/training.py\", line 2810, in fit_generator\n      return self.fit(\n    File \"/opt/conda/lib/python3.10/site-packages/keras/src/utils/traceback_utils.py\", line 65, in error_handler\n      return fn(*args, **kwargs)\n    File \"/opt/conda/lib/python3.10/site-packages/keras/src/engine/training.py\", line 1742, in fit\n      tmp_logs = self.train_function(iterator)\n    File \"/opt/conda/lib/python3.10/site-packages/keras/src/engine/training.py\", line 1338, in train_function\n      return step_function(self, iterator)\n    File \"/opt/conda/lib/python3.10/site-packages/keras/src/engine/training.py\", line 1322, in step_function\n      outputs = model.distribute_strategy.run(run_step, args=(data,))\n    File \"/opt/conda/lib/python3.10/site-packages/keras/src/engine/training.py\", line 1303, in run_step\n      outputs = model.train_step(data)\n    File \"/opt/conda/lib/python3.10/site-packages/keras/src/engine/training.py\", line 1080, in train_step\n      y_pred = self(x, training=True)\n    File \"/opt/conda/lib/python3.10/site-packages/keras/src/utils/traceback_utils.py\", line 65, in error_handler\n      return fn(*args, **kwargs)\n    File \"/opt/conda/lib/python3.10/site-packages/keras/src/engine/training.py\", line 569, in __call__\n      return super().__call__(*args, **kwargs)\n    File \"/opt/conda/lib/python3.10/site-packages/keras/src/utils/traceback_utils.py\", line 65, in error_handler\n      return fn(*args, **kwargs)\n    File \"/opt/conda/lib/python3.10/site-packages/keras/src/engine/base_layer.py\", line 1150, in __call__\n      outputs = call_fn(inputs, *args, **kwargs)\n    File \"/opt/conda/lib/python3.10/site-packages/keras/src/utils/traceback_utils.py\", line 96, in error_handler\n      return fn(*args, **kwargs)\n    File \"/opt/conda/lib/python3.10/site-packages/keras/src/engine/functional.py\", line 512, in call\n      return self._run_internal_graph(inputs, training=training, mask=mask)\n    File \"/opt/conda/lib/python3.10/site-packages/keras/src/engine/functional.py\", line 669, in _run_internal_graph\n      outputs = node.layer(*args, **kwargs)\n    File \"/opt/conda/lib/python3.10/site-packages/keras/src/utils/traceback_utils.py\", line 65, in error_handler\n      return fn(*args, **kwargs)\n    File \"/opt/conda/lib/python3.10/site-packages/keras/src/engine/base_layer.py\", line 1150, in __call__\n      outputs = call_fn(inputs, *args, **kwargs)\n    File \"/opt/conda/lib/python3.10/site-packages/keras/src/utils/traceback_utils.py\", line 96, in error_handler\n      return fn(*args, **kwargs)\n    File \"/opt/conda/lib/python3.10/site-packages/keras/src/layers/core/dense.py\", line 241, in call\n      outputs = tf.matmul(a=inputs, b=self.kernel)\nNode: 'model_1/dense/MatMul'\nMatrix size-incompatible: In[0]: [61,2048], In[1]: [4096,256]\n\t [[{{node model_1/dense/MatMul}}]] [Op:__inference_train_function_2146558]"
     ]
    }
   ],
   "source": [
    "# train the model\n",
    "epochs = 150\n",
    "batch_size = 64\n",
    "steps = len(train) // batch_size\n",
    "\n",
    "for i in range(epochs):\n",
    "    # create data generator\n",
    "    generator = data_generator(train, mapping, features, tokenizer, max_length, vocab_size, batch_size)\n",
    "    # fit for one epoch\n",
    "    model.fit_generator(generator, epochs = 1, steps_per_epoch = steps, verbose = 1)\n",
    "    print(i)"
   ]
  },
  {
   "cell_type": "code",
   "execution_count": null,
   "metadata": {
    "execution": {
     "iopub.status.busy": "2024-03-24T13:55:26.714728Z",
     "iopub.status.idle": "2024-03-24T13:55:26.715134Z",
     "shell.execute_reply": "2024-03-24T13:55:26.714970Z",
     "shell.execute_reply.started": "2024-03-24T13:55:26.714952Z"
    }
   },
   "outputs": [],
   "source": [
    "# save the model\n",
    "model.save('best_model.h5')"
   ]
  },
  {
   "cell_type": "markdown",
   "metadata": {},
   "source": [
    "## Generate Captions for the Image"
   ]
  },
  {
   "cell_type": "code",
   "execution_count": null,
   "metadata": {
    "execution": {
     "iopub.status.busy": "2024-03-24T13:55:26.716179Z",
     "iopub.status.idle": "2024-03-24T13:55:26.716549Z",
     "shell.execute_reply": "2024-03-24T13:55:26.716397Z",
     "shell.execute_reply.started": "2024-03-24T13:55:26.716380Z"
    }
   },
   "outputs": [],
   "source": [
    "def ind_to_word(integer, tokenizer):\n",
    "    for word, index in tokenizer.word_index.items():\n",
    "        if index == integer:\n",
    "            return word\n",
    "    return None"
   ]
  },
  {
   "cell_type": "code",
   "execution_count": null,
   "metadata": {
    "execution": {
     "iopub.status.busy": "2024-03-24T13:55:26.718085Z",
     "iopub.status.idle": "2024-03-24T13:55:26.718571Z",
     "shell.execute_reply": "2024-03-24T13:55:26.718349Z",
     "shell.execute_reply.started": "2024-03-24T13:55:26.718326Z"
    }
   },
   "outputs": [],
   "source": [
    "# generate captions for an image\n",
    "def predict_caption(model, image, tokeniser, max_length):\n",
    "    # add start tag for generation process\n",
    "    in_text = '<start>'\n",
    "    # interate over the max length of the sequence\n",
    "    for i in range(max_length):\n",
    "        # encode input sequence\n",
    "        sequence = tokenizer.texts_to_sequences([in_text])[0]\n",
    "#         sequence = model_vect.predict([in_text])\n",
    "#         pad the sequence\n",
    "        sequence = pad_sequences([sequence],max_length)\n",
    "        # predict next word\n",
    "        yhat = model.predict([image, sequence], verbose = 0)\n",
    "        # get index with high probabiility\n",
    "        yhat = np.argmax(yhat)\n",
    "        # convert index to word\n",
    "        word = ind_to_word(yhat, tokenizer)\n",
    "        # stop if word not found\n",
    "        if word is None:\n",
    "            break\n",
    "        # stop if we reach end tag\n",
    "        if word == 'end':\n",
    "            break\n",
    "        # append word as input for generating next word\n",
    "        in_text += \" \" + word\n",
    "    return in_text"
   ]
  },
  {
   "cell_type": "code",
   "execution_count": null,
   "metadata": {
    "_kg_hide-output": true,
    "execution": {
     "iopub.status.busy": "2024-03-24T13:55:26.720353Z",
     "iopub.status.idle": "2024-03-24T13:55:26.720710Z",
     "shell.execute_reply": "2024-03-24T13:55:26.720555Z",
     "shell.execute_reply.started": "2024-03-24T13:55:26.720538Z"
    }
   },
   "outputs": [],
   "source": [
    "from nltk.translate.bleu_score import corpus_bleu\n",
    "# validate with test data\n",
    "actual, predicted = list(), list()\n",
    "\n",
    "\n",
    "\n",
    "for key in tqdm(test):\n",
    "    # get actual caption\n",
    "    captions = mapping[key]\n",
    "    # predict the caption for the image\n",
    "    y_pred = predict_caption(model, features[key], tokenizer, max_length)\n",
    "    \n",
    "    # split into words\n",
    "    actual_captions = [caption.split() for caption in captions]\n",
    "    y_pred = y_pred.split()\n",
    "    # append to the list\n",
    "    actual.append(actual_captions)\n",
    "    predicted.append(y_pred)\n",
    "\n",
    "# calculate BLEU score\n",
    "print(\"BLEU-1: %f\" % corpus_bleu(actual, predicted, weights=(1.0,0,0,0)))\n",
    "print(\"BLEU-2 %f\" % corpus_bleu(actual, predicted, weights=(0.5,0.5,0,0)))"
   ]
  },
  {
   "cell_type": "markdown",
   "metadata": {},
   "source": [
    "## Visualize the Results"
   ]
  },
  {
   "cell_type": "code",
   "execution_count": null,
   "metadata": {
    "execution": {
     "iopub.status.busy": "2024-03-24T13:55:26.722103Z",
     "iopub.status.idle": "2024-03-24T13:55:26.722498Z",
     "shell.execute_reply": "2024-03-24T13:55:26.722333Z",
     "shell.execute_reply.started": "2024-03-24T13:55:26.722315Z"
    }
   },
   "outputs": [],
   "source": [
    "from PIL import Image\n",
    "import matplotlib.pyplot as plt\n",
    "def generate_caption(image_name):\n",
    "    # load the image\n",
    "    image_id = image_name.split('.')[0]\n",
    "    img_path = os.path.join(BASE_DIR,\"images/flickr30k_images\",image_name)\n",
    "    image = Image.open(img_path)\n",
    "    captions = mapping[image_id]\n",
    "    print(\"----------------------Actual--------------------------\")\n",
    "    for caption in captions:\n",
    "        print(caption)\n",
    "        # predict the caption\n",
    "    y_pred = predict_caption(model,features[image_id], tokenizer, max_length)\n",
    "    print(\"------------------------predicted-----------------------------\")\n",
    "    print(y_pred)\n",
    "    plt.imshow(image)"
   ]
  },
  {
   "cell_type": "code",
   "execution_count": null,
   "metadata": {
    "execution": {
     "iopub.status.busy": "2024-03-24T13:55:26.723840Z",
     "iopub.status.idle": "2024-03-24T13:55:26.724198Z",
     "shell.execute_reply": "2024-03-24T13:55:26.724042Z",
     "shell.execute_reply.started": "2024-03-24T13:55:26.724024Z"
    }
   },
   "outputs": [],
   "source": [
    "generate_caption('1015712668.jpg')"
   ]
  },
  {
   "cell_type": "code",
   "execution_count": 1,
   "metadata": {},
   "outputs": [
    {
     "data": {
      "image/png": "[encoded data removed]",
      "text/plain": [
       "<Figure size 800x600 with 1 Axes>"
      ]
     },
     "metadata": {},
     "output_type": "display_data"
    }
   ],
   "source": [
    "import matplotlib.pyplot as plt\n",
    "\n",
    "# Sample BLEU scores (replace with your actual data)\n",
    "bleu_scores = [0.6, 0.7, 0.5, 0.8, 0.9]\n",
    "\n",
    "# Plot histogram of BLEU scores\n",
    "plt.figure(figsize=(8, 6))\n",
    "plt.hist(bleu_scores, bins=10, color='skyblue', edgecolor='black')\n",
    "plt.title('BLEU Score Distribution')\n",
    "plt.xlabel('BLEU Score')\n",
    "plt.ylabel('Frequency')\n",
    "plt.grid(True)\n",
    "plt.show()"
   ]
  },
  {
   "cell_type": "code",
   "execution_count": 4,
   "metadata": {},
   "outputs": [
    {
     "data": {
      "image/png": "[encoded data removed]",
      "text/plain": [
       "<Figure size 800x600 with 1 Axes>"
      ]
     },
     "metadata": {},
     "output_type": "display_data"
    }
   ],
   "source": [
    "import matplotlib.pyplot as plt\n",
    "\n",
    "# Sample data (replace with your actual data)\n",
    "models = ['', 'VGG16', 'VGG19']\n",
    "bleu_scores = [0.5, 0.75, 0.8]\n",
    "\n",
    "plt.figure(figsize=(8, 6))\n",
    "plt.bar(models, bleu_scores, color='skyblue')\n",
    "plt.title('Comparison of Model Performance')\n",
    "plt.xlabel('Models')\n",
    "plt.ylabel('BLEU Score')\n",
    "plt.ylim(0, 1)  # Set y-axis limits\n",
    "plt.grid(axis='y')\n",
    "plt.show()"
   ]
  },
  {
   "cell_type": "code",
   "execution_count": 6,
   "metadata": {},
   "outputs": [
    {
     "ename": "AttributeError",
     "evalue": "Rectangle.set() got an unexpected keyword argument 'labels'",
     "output_type": "error",
     "traceback": [
      "\u001b[1;31m---------------------------------------------------------------------------\u001b[0m",
      "\u001b[1;31mAttributeError\u001b[0m                            Traceback (most recent call last)",
      "\u001b[1;32m~\\AppData\\Local\\Temp\\ipykernel_2520\\3160674011.py\u001b[0m in \u001b[0;36m<module>\u001b[1;34m\u001b[0m\n\u001b[0;32m     11\u001b[0m \u001b[1;33m\u001b[0m\u001b[0m\n\u001b[0;32m     12\u001b[0m \u001b[0mplt\u001b[0m\u001b[1;33m.\u001b[0m\u001b[0mfigure\u001b[0m\u001b[1;33m(\u001b[0m\u001b[0mfigsize\u001b[0m\u001b[1;33m=\u001b[0m\u001b[1;33m(\u001b[0m\u001b[1;36m8\u001b[0m\u001b[1;33m,\u001b[0m \u001b[1;36m6\u001b[0m\u001b[1;33m)\u001b[0m\u001b[1;33m)\u001b[0m\u001b[1;33m\u001b[0m\u001b[1;33m\u001b[0m\u001b[0m\n\u001b[1;32m---> 13\u001b[1;33m \u001b[0mplt\u001b[0m\u001b[1;33m.\u001b[0m\u001b[0mhist\u001b[0m\u001b[1;33m(\u001b[0m\u001b[0mbleu_scores\u001b[0m\u001b[1;33m,\u001b[0m \u001b[0mlabels\u001b[0m\u001b[1;33m=\u001b[0m\u001b[0mcategories\u001b[0m\u001b[1;33m)\u001b[0m\u001b[1;33m\u001b[0m\u001b[1;33m\u001b[0m\u001b[0m\n\u001b[0m\u001b[0;32m     14\u001b[0m \u001b[0mplt\u001b[0m\u001b[1;33m.\u001b[0m\u001b[0mtitle\u001b[0m\u001b[1;33m(\u001b[0m\u001b[1;34m'Distribution of BLEU Scores by Category'\u001b[0m\u001b[1;33m)\u001b[0m\u001b[1;33m\u001b[0m\u001b[1;33m\u001b[0m\u001b[0m\n\u001b[0;32m     15\u001b[0m \u001b[0mplt\u001b[0m\u001b[1;33m.\u001b[0m\u001b[0mxlabel\u001b[0m\u001b[1;33m(\u001b[0m\u001b[1;34m'Categories'\u001b[0m\u001b[1;33m)\u001b[0m\u001b[1;33m\u001b[0m\u001b[1;33m\u001b[0m\u001b[0m\n",
      "\u001b[1;32mE:\\anacondafiles\\lib\\site-packages\\matplotlib\\pyplot.py\u001b[0m in \u001b[0;36mhist\u001b[1;34m(x, bins, range, density, weights, cumulative, bottom, histtype, align, orientation, rwidth, log, color, label, stacked, data, **kwargs)\u001b[0m\n\u001b[0;32m   2559\u001b[0m         \u001b[0morientation\u001b[0m\u001b[1;33m=\u001b[0m\u001b[1;34m'vertical'\u001b[0m\u001b[1;33m,\u001b[0m \u001b[0mrwidth\u001b[0m\u001b[1;33m=\u001b[0m\u001b[1;32mNone\u001b[0m\u001b[1;33m,\u001b[0m \u001b[0mlog\u001b[0m\u001b[1;33m=\u001b[0m\u001b[1;32mFalse\u001b[0m\u001b[1;33m,\u001b[0m \u001b[0mcolor\u001b[0m\u001b[1;33m=\u001b[0m\u001b[1;32mNone\u001b[0m\u001b[1;33m,\u001b[0m\u001b[1;33m\u001b[0m\u001b[1;33m\u001b[0m\u001b[0m\n\u001b[0;32m   2560\u001b[0m         label=None, stacked=False, *, data=None, **kwargs):\n\u001b[1;32m-> 2561\u001b[1;33m     return gca().hist(\n\u001b[0m\u001b[0;32m   2562\u001b[0m         \u001b[0mx\u001b[0m\u001b[1;33m,\u001b[0m \u001b[0mbins\u001b[0m\u001b[1;33m=\u001b[0m\u001b[0mbins\u001b[0m\u001b[1;33m,\u001b[0m \u001b[0mrange\u001b[0m\u001b[1;33m=\u001b[0m\u001b[0mrange\u001b[0m\u001b[1;33m,\u001b[0m \u001b[0mdensity\u001b[0m\u001b[1;33m=\u001b[0m\u001b[0mdensity\u001b[0m\u001b[1;33m,\u001b[0m \u001b[0mweights\u001b[0m\u001b[1;33m=\u001b[0m\u001b[0mweights\u001b[0m\u001b[1;33m,\u001b[0m\u001b[1;33m\u001b[0m\u001b[1;33m\u001b[0m\u001b[0m\n\u001b[0;32m   2563\u001b[0m         \u001b[0mcumulative\u001b[0m\u001b[1;33m=\u001b[0m\u001b[0mcumulative\u001b[0m\u001b[1;33m,\u001b[0m \u001b[0mbottom\u001b[0m\u001b[1;33m=\u001b[0m\u001b[0mbottom\u001b[0m\u001b[1;33m,\u001b[0m \u001b[0mhisttype\u001b[0m\u001b[1;33m=\u001b[0m\u001b[0mhisttype\u001b[0m\u001b[1;33m,\u001b[0m\u001b[1;33m\u001b[0m\u001b[1;33m\u001b[0m\u001b[0m\n",
      "\u001b[1;32mE:\\anacondafiles\\lib\\site-packages\\matplotlib\\__init__.py\u001b[0m in \u001b[0;36minner\u001b[1;34m(ax, data, *args, **kwargs)\u001b[0m\n\u001b[0;32m   1421\u001b[0m     \u001b[1;32mdef\u001b[0m \u001b[0minner\u001b[0m\u001b[1;33m(\u001b[0m\u001b[0max\u001b[0m\u001b[1;33m,\u001b[0m \u001b[1;33m*\u001b[0m\u001b[0margs\u001b[0m\u001b[1;33m,\u001b[0m \u001b[0mdata\u001b[0m\u001b[1;33m=\u001b[0m\u001b[1;32mNone\u001b[0m\u001b[1;33m,\u001b[0m \u001b[1;33m**\u001b[0m\u001b[0mkwargs\u001b[0m\u001b[1;33m)\u001b[0m\u001b[1;33m:\u001b[0m\u001b[1;33m\u001b[0m\u001b[1;33m\u001b[0m\u001b[0m\n\u001b[0;32m   1422\u001b[0m         \u001b[1;32mif\u001b[0m \u001b[0mdata\u001b[0m \u001b[1;32mis\u001b[0m \u001b[1;32mNone\u001b[0m\u001b[1;33m:\u001b[0m\u001b[1;33m\u001b[0m\u001b[1;33m\u001b[0m\u001b[0m\n\u001b[1;32m-> 1423\u001b[1;33m             \u001b[1;32mreturn\u001b[0m \u001b[0mfunc\u001b[0m\u001b[1;33m(\u001b[0m\u001b[0max\u001b[0m\u001b[1;33m,\u001b[0m \u001b[1;33m*\u001b[0m\u001b[0mmap\u001b[0m\u001b[1;33m(\u001b[0m\u001b[0msanitize_sequence\u001b[0m\u001b[1;33m,\u001b[0m \u001b[0margs\u001b[0m\u001b[1;33m)\u001b[0m\u001b[1;33m,\u001b[0m \u001b[1;33m**\u001b[0m\u001b[0mkwargs\u001b[0m\u001b[1;33m)\u001b[0m\u001b[1;33m\u001b[0m\u001b[1;33m\u001b[0m\u001b[0m\n\u001b[0m\u001b[0;32m   1424\u001b[0m \u001b[1;33m\u001b[0m\u001b[0m\n\u001b[0;32m   1425\u001b[0m         \u001b[0mbound\u001b[0m \u001b[1;33m=\u001b[0m \u001b[0mnew_sig\u001b[0m\u001b[1;33m.\u001b[0m\u001b[0mbind\u001b[0m\u001b[1;33m(\u001b[0m\u001b[0max\u001b[0m\u001b[1;33m,\u001b[0m \u001b[1;33m*\u001b[0m\u001b[0margs\u001b[0m\u001b[1;33m,\u001b[0m \u001b[1;33m**\u001b[0m\u001b[0mkwargs\u001b[0m\u001b[1;33m)\u001b[0m\u001b[1;33m\u001b[0m\u001b[1;33m\u001b[0m\u001b[0m\n",
      "\u001b[1;32mE:\\anacondafiles\\lib\\site-packages\\matplotlib\\axes\\_axes.py\u001b[0m in \u001b[0;36mhist\u001b[1;34m(self, x, bins, range, density, weights, cumulative, bottom, histtype, align, orientation, rwidth, log, color, label, stacked, **kwargs)\u001b[0m\n\u001b[0;32m   6856\u001b[0m             \u001b[1;32mif\u001b[0m \u001b[0mpatch\u001b[0m\u001b[1;33m:\u001b[0m\u001b[1;33m\u001b[0m\u001b[1;33m\u001b[0m\u001b[0m\n\u001b[0;32m   6857\u001b[0m                 \u001b[0mp\u001b[0m \u001b[1;33m=\u001b[0m \u001b[0mpatch\u001b[0m\u001b[1;33m[\u001b[0m\u001b[1;36m0\u001b[0m\u001b[1;33m]\u001b[0m\u001b[1;33m\u001b[0m\u001b[1;33m\u001b[0m\u001b[0m\n\u001b[1;32m-> 6858\u001b[1;33m                 \u001b[0mp\u001b[0m\u001b[1;33m.\u001b[0m\u001b[0m_internal_update\u001b[0m\u001b[1;33m(\u001b[0m\u001b[0mkwargs\u001b[0m\u001b[1;33m)\u001b[0m\u001b[1;33m\u001b[0m\u001b[1;33m\u001b[0m\u001b[0m\n\u001b[0m\u001b[0;32m   6859\u001b[0m                 \u001b[1;32mif\u001b[0m \u001b[0mlbl\u001b[0m \u001b[1;32mis\u001b[0m \u001b[1;32mnot\u001b[0m \u001b[1;32mNone\u001b[0m\u001b[1;33m:\u001b[0m\u001b[1;33m\u001b[0m\u001b[1;33m\u001b[0m\u001b[0m\n\u001b[0;32m   6860\u001b[0m                     \u001b[0mp\u001b[0m\u001b[1;33m.\u001b[0m\u001b[0mset_label\u001b[0m\u001b[1;33m(\u001b[0m\u001b[0mlbl\u001b[0m\u001b[1;33m)\u001b[0m\u001b[1;33m\u001b[0m\u001b[1;33m\u001b[0m\u001b[0m\n",
      "\u001b[1;32mE:\\anacondafiles\\lib\\site-packages\\matplotlib\\artist.py\u001b[0m in \u001b[0;36m_internal_update\u001b[1;34m(self, kwargs)\u001b[0m\n\u001b[0;32m   1184\u001b[0m         \u001b[0mThe\u001b[0m \u001b[0mlack\u001b[0m \u001b[0mof\u001b[0m \u001b[0mprenormalization\u001b[0m \u001b[1;32mis\u001b[0m \u001b[0mto\u001b[0m \u001b[0mmaintain\u001b[0m \u001b[0mbackcompatibility\u001b[0m\u001b[1;33m.\u001b[0m\u001b[1;33m\u001b[0m\u001b[1;33m\u001b[0m\u001b[0m\n\u001b[0;32m   1185\u001b[0m         \"\"\"\n\u001b[1;32m-> 1186\u001b[1;33m         return self._update_props(\n\u001b[0m\u001b[0;32m   1187\u001b[0m             \u001b[0mkwargs\u001b[0m\u001b[1;33m,\u001b[0m \u001b[1;34m\"{cls.__name__}.set() got an unexpected keyword argument \"\u001b[0m\u001b[1;33m\u001b[0m\u001b[1;33m\u001b[0m\u001b[0m\n\u001b[0;32m   1188\u001b[0m             \"{prop_name!r}\")\n",
      "\u001b[1;32mE:\\anacondafiles\\lib\\site-packages\\matplotlib\\artist.py\u001b[0m in \u001b[0;36m_update_props\u001b[1;34m(self, props, errfmt)\u001b[0m\n\u001b[0;32m   1158\u001b[0m                     \u001b[0mfunc\u001b[0m \u001b[1;33m=\u001b[0m \u001b[0mgetattr\u001b[0m\u001b[1;33m(\u001b[0m\u001b[0mself\u001b[0m\u001b[1;33m,\u001b[0m \u001b[1;34mf\"set_{k}\"\u001b[0m\u001b[1;33m,\u001b[0m \u001b[1;32mNone\u001b[0m\u001b[1;33m)\u001b[0m\u001b[1;33m\u001b[0m\u001b[1;33m\u001b[0m\u001b[0m\n\u001b[0;32m   1159\u001b[0m                     \u001b[1;32mif\u001b[0m \u001b[1;32mnot\u001b[0m \u001b[0mcallable\u001b[0m\u001b[1;33m(\u001b[0m\u001b[0mfunc\u001b[0m\u001b[1;33m)\u001b[0m\u001b[1;33m:\u001b[0m\u001b[1;33m\u001b[0m\u001b[1;33m\u001b[0m\u001b[0m\n\u001b[1;32m-> 1160\u001b[1;33m                         raise AttributeError(\n\u001b[0m\u001b[0;32m   1161\u001b[0m                             errfmt.format(cls=type(self), prop_name=k))\n\u001b[0;32m   1162\u001b[0m                     \u001b[0mret\u001b[0m\u001b[1;33m.\u001b[0m\u001b[0mappend\u001b[0m\u001b[1;33m(\u001b[0m\u001b[0mfunc\u001b[0m\u001b[1;33m(\u001b[0m\u001b[0mv\u001b[0m\u001b[1;33m)\u001b[0m\u001b[1;33m)\u001b[0m\u001b[1;33m\u001b[0m\u001b[1;33m\u001b[0m\u001b[0m\n",
      "\u001b[1;31mAttributeError\u001b[0m: Rectangle.set() got an unexpected keyword argument 'labels'"
     ]
    },
    {
     "data": {
      "image/png": "[encoded data removed]",
      "text/plain": [
       "<Figure size 800x600 with 1 Axes>"
      ]
     },
     "metadata": {},
     "output_type": "display_data"
    }
   ],
   "source": [
    "import matplotlib.pyplot as plt\n",
    "import numpy as np\n",
    "\n",
    "# Sample data (replace with your actual data)\n",
    "categories = ['Category 1', 'Category 2', 'Category 3']\n",
    "bleu_scores = [\n",
    "    [0.6, 0.65, 0.7, 0.75, 0.8],\n",
    "    [0.65, 0.7, 0.72, 0.76, 0.78],\n",
    "    [0.7, 0.75, 0.78, 0.82, 0.85]\n",
    "]\n",
    "\n",
    "plt.figure(figsize=(8, 6))\n",
    "plt.(bleu_scores, labels=categories)\n",
    "plt.title('Distribution of BLEU Scores by Category')\n",
    "plt.xlabel('Categories')\n",
    "plt.ylabel('BLEU Score')\n",
    "plt.ylim(0, 1)  # Set y-axis limits\n",
    "plt.grid(axis='y')\n",
    "plt.show()"
   ]
  },
  {
   "cell_type": "code",
   "execution_count": null,
   "metadata": {},
   "outputs": [],
   "source": []
  }
 ],
 "metadata": {
  "kaggle": {
   "accelerator": "nvidiaTeslaT4",
   "dataSources": [
    {
     "datasetId": 623289,
     "sourceId": 1111676,
     "sourceType": "datasetVersion"
    },
    {
     "datasetId": 908492,
     "sourceId": 1540510,
     "sourceType": "datasetVersion"
    }
   ],
   "dockerImageVersionId": 30627,
   "isGpuEnabled": true,
   "isInternetEnabled": true,
   "language": "python",
   "sourceType": "notebook"
  },
  "kernelspec": {
   "display_name": "Python 3 (ipykernel)",
   "language": "python",
   "name": "python3"
  },
  "language_info": {
   "codemirror_mode": {
    "name": "ipython",
    "version": 3
   },
   "file_extension": ".py",
   "mimetype": "text/x-python",
   "name": "python",
   "nbconvert_exporter": "python",
   "pygments_lexer": "ipython3",
   "version": "3.11.4"
  }
 },
 "nbformat": 4,
 "nbformat_minor": 4
}
